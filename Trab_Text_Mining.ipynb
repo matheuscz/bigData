{
  "nbformat": 4,
  "nbformat_minor": 0,
  "metadata": {
    "colab": {
      "name": "Trab_Text_Mining.ipynb",
      "version": "0.3.2",
      "provenance": [],
      "collapsed_sections": [],
      "toc_visible": true,
      "include_colab_link": true
    },
    "kernelspec": {
      "name": "python3",
      "display_name": "Python 3"
    },
    "accelerator": "GPU"
  },
  "cells": [
    {
      "cell_type": "markdown",
      "metadata": {
        "id": "view-in-github",
        "colab_type": "text"
      },
      "source": [
        "<a href=\"https://colab.research.google.com/github/matheuscz/bigData/blob/master/Trab_Text_Mining.ipynb\" target=\"_parent\"><img src=\"https://colab.research.google.com/assets/colab-badge.svg\" alt=\"Open In Colab\"/></a>"
      ]
    },
    {
      "metadata": {
        "id": "0_4KuVBMyLfX",
        "colab_type": "code",
        "colab": {}
      },
      "cell_type": "code",
      "source": [
        "!pip3 install -qq lightgbm\n",
        "!pip3 install -qq gensim"
      ],
      "execution_count": 0,
      "outputs": []
    },
    {
      "metadata": {
        "id": "0vr6nVkMvThE",
        "colab_type": "code",
        "colab": {
          "base_uri": "https://localhost:8080/",
          "height": 34
        },
        "outputId": "5b22bb98-5f9f-4d88-ac0c-830d7689034f"
      },
      "cell_type": "code",
      "source": [
        "import re\n",
        "import nltk\n",
        "#nltk.download()\n",
        "\n",
        "import pandas as pd\n",
        "import numpy as np\n",
        "\n",
        "from bs4 import BeautifulSoup\n",
        "from nltk.corpus import stopwords\n",
        "from nltk.stem.porter import PorterStemmer\n",
        "portuguese_stemmer=nltk.stem.SnowballStemmer('portuguese')\n",
        "\n",
        "import lightgbm as lgb\n",
        "from sklearn.feature_selection.univariate_selection import SelectKBest, chi2, f_classif\n",
        "from sklearn.model_selection import train_test_split\n",
        "from sklearn.feature_extraction.text import TfidfVectorizer\n",
        "from sklearn.linear_model import  SGDRegressor\n",
        "from sklearn.ensemble import RandomForestRegressor\n",
        "from sklearn.naive_bayes import MultinomialNB\n",
        "from sklearn.metrics import  mean_squared_error\n",
        "import random\n",
        "import itertools\n",
        "import datetime\n",
        "\n",
        "import sys\n",
        "import os\n",
        "import argparse\n",
        "from sklearn.pipeline import Pipeline\n",
        "from scipy.sparse import csr_matrix\n",
        "from sklearn.feature_extraction.text import CountVectorizer\n",
        "import six\n",
        "from abc import ABCMeta\n",
        "from scipy import sparse\n",
        "from scipy.sparse import issparse\n",
        "\n",
        "from sklearn.utils import check_X_y, check_array\n",
        "from sklearn.utils.extmath import safe_sparse_dot\n",
        "from sklearn.preprocessing import normalize, binarize, LabelBinarizer\n",
        "from sklearn.svm import LinearSVC\n",
        "\n",
        "from keras.preprocessing import sequence\n",
        "from keras.utils import np_utils\n",
        "from keras.models import Sequential\n",
        "from keras.layers.core import Dense, Dropout, Activation, Lambda, Flatten\n",
        "from keras.layers.embeddings import Embedding\n",
        "from keras.layers.recurrent import LSTM, SimpleRNN, GRU\n",
        "from keras.preprocessing.text import Tokenizer\n",
        "from keras.preprocessing.sequence import pad_sequences\n",
        "from collections import defaultdict\n",
        "from keras.layers.convolutional import Convolution1D\n",
        "from keras import backend as K\n",
        "from unicodedata import normalize\n",
        "from keras.layers import LSTM\n",
        "\n",
        "import seaborn as sns\n",
        "import matplotlib.pyplot as plt\n",
        "from matplotlib import cm\n",
        "%matplotlib inline\n",
        "plt.style.use('ggplot')"
      ],
      "execution_count": 4,
      "outputs": [
        {
          "output_type": "stream",
          "text": [
            "Using TensorFlow backend.\n"
          ],
          "name": "stderr"
        }
      ]
    },
    {
      "metadata": {
        "id": "kZaWtWMpvThD",
        "colab_type": "text"
      },
      "cell_type": "markdown",
      "source": [
        "## Bibliotecas para o text minig"
      ]
    },
    {
      "metadata": {
        "id": "ovve8j2gvThJ",
        "colab_type": "code",
        "colab": {}
      },
      "cell_type": "code",
      "source": [
        "from gensim.models import KeyedVectors"
      ],
      "execution_count": 0,
      "outputs": []
    },
    {
      "metadata": {
        "id": "SrZkWuwWvThP",
        "colab_type": "text"
      },
      "cell_type": "markdown",
      "source": [
        "## Leitura dos dados"
      ]
    },
    {
      "metadata": {
        "id": "vbFi4kFgvThQ",
        "colab_type": "code",
        "colab": {}
      },
      "cell_type": "code",
      "source": [
        "andamentos=pd.read_pickle('andamentos_tjsp.pkl')"
      ],
      "execution_count": 0,
      "outputs": []
    },
    {
      "metadata": {
        "id": "E6s6Ty9mvThT",
        "colab_type": "code",
        "colab": {
          "base_uri": "https://localhost:8080/",
          "height": 289
        },
        "outputId": "39f042e5-c428-4d5e-c695-9fc03d6c62a4"
      },
      "cell_type": "code",
      "source": [
        "andamentos.head()"
      ],
      "execution_count": 9,
      "outputs": [
        {
          "output_type": "execute_result",
          "data": {
            "text/html": [
              "<div>\n",
              "<style scoped>\n",
              "    .dataframe tbody tr th:only-of-type {\n",
              "        vertical-align: middle;\n",
              "    }\n",
              "\n",
              "    .dataframe tbody tr th {\n",
              "        vertical-align: top;\n",
              "    }\n",
              "\n",
              "    .dataframe thead th {\n",
              "        text-align: right;\n",
              "    }\n",
              "</style>\n",
              "<table border=\"1\" class=\"dataframe\">\n",
              "  <thead>\n",
              "    <tr style=\"text-align: right;\">\n",
              "      <th></th>\n",
              "      <th>Processo</th>\n",
              "      <th>data</th>\n",
              "      <th>descricao</th>\n",
              "      <th>timedelta</th>\n",
              "      <th>acao</th>\n",
              "      <th>seq</th>\n",
              "    </tr>\n",
              "  </thead>\n",
              "  <tbody>\n",
              "    <tr>\n",
              "      <th>123557</th>\n",
              "      <td>218a98942855ddf259f6ea0bee343b67</td>\n",
              "      <td>1973-05-17</td>\n",
              "      <td>Distribuição Livre Conforme remessa ao Distrib...</td>\n",
              "      <td>11079.0</td>\n",
              "      <td>Inventário e Partilha</td>\n",
              "      <td>1</td>\n",
              "    </tr>\n",
              "    <tr>\n",
              "      <th>128428</th>\n",
              "      <td>4bf8c065bc0f776b3598c3990b9ed8c0</td>\n",
              "      <td>1979-09-10</td>\n",
              "      <td>Distribuído por Direcionamento (movimentação e...</td>\n",
              "      <td>13534.0</td>\n",
              "      <td>Inventário e Partilha</td>\n",
              "      <td>1</td>\n",
              "    </tr>\n",
              "    <tr>\n",
              "      <th>97535</th>\n",
              "      <td>a9b501b6b76a7eff441ebf5d9c3ec872</td>\n",
              "      <td>1980-04-30</td>\n",
              "      <td>Distribuído por Direcionamento (movimentação e...</td>\n",
              "      <td>12375.0</td>\n",
              "      <td>Desapropriação</td>\n",
              "      <td>1</td>\n",
              "    </tr>\n",
              "    <tr>\n",
              "      <th>131228</th>\n",
              "      <td>2fdc177c5ec4f2e2743ac65e0cefd0e4</td>\n",
              "      <td>1980-11-28</td>\n",
              "      <td>Distribuição Livre Processo Distribuído por So...</td>\n",
              "      <td>8859.0</td>\n",
              "      <td>NaN</td>\n",
              "      <td>1</td>\n",
              "    </tr>\n",
              "    <tr>\n",
              "      <th>143392</th>\n",
              "      <td>09e89309dde68184c0c4997f19691668</td>\n",
              "      <td>1990-02-13</td>\n",
              "      <td>Incidente Processual Incidente Processual 583....</td>\n",
              "      <td>30.0</td>\n",
              "      <td>Recuperação judicial e Falência</td>\n",
              "      <td>1</td>\n",
              "    </tr>\n",
              "  </tbody>\n",
              "</table>\n",
              "</div>"
            ],
            "text/plain": [
              "                                Processo       data  \\\n",
              "123557  218a98942855ddf259f6ea0bee343b67 1973-05-17   \n",
              "128428  4bf8c065bc0f776b3598c3990b9ed8c0 1979-09-10   \n",
              "97535   a9b501b6b76a7eff441ebf5d9c3ec872 1980-04-30   \n",
              "131228  2fdc177c5ec4f2e2743ac65e0cefd0e4 1980-11-28   \n",
              "143392  09e89309dde68184c0c4997f19691668 1990-02-13   \n",
              "\n",
              "                                                descricao  timedelta  \\\n",
              "123557  Distribuição Livre Conforme remessa ao Distrib...    11079.0   \n",
              "128428  Distribuído por Direcionamento (movimentação e...    13534.0   \n",
              "97535   Distribuído por Direcionamento (movimentação e...    12375.0   \n",
              "131228  Distribuição Livre Processo Distribuído por So...     8859.0   \n",
              "143392  Incidente Processual Incidente Processual 583....       30.0   \n",
              "\n",
              "                                   acao  seq  \n",
              "123557            Inventário e Partilha    1  \n",
              "128428            Inventário e Partilha    1  \n",
              "97535                    Desapropriação    1  \n",
              "131228                              NaN    1  \n",
              "143392  Recuperação judicial e Falência    1  "
            ]
          },
          "metadata": {
            "tags": []
          },
          "execution_count": 9
        }
      ]
    },
    {
      "metadata": {
        "id": "z0ArhxhBvThX",
        "colab_type": "text"
      },
      "cell_type": "markdown",
      "source": [
        "## Treino e teste\n",
        "\n",
        "Teste será tudo de 2017 para frente, treino é tudo antes de 2017"
      ]
    },
    {
      "metadata": {
        "id": "bDS_-qx_vThZ",
        "colab_type": "code",
        "colab": {}
      },
      "cell_type": "code",
      "source": [
        "andamentos.data=pd.to_datetime(andamentos.data, format='%Y%m%d', errors='ignore')"
      ],
      "execution_count": 0,
      "outputs": []
    },
    {
      "metadata": {
        "id": "pI4VsXFAvThb",
        "colab_type": "code",
        "colab": {
          "base_uri": "https://localhost:8080/",
          "height": 34
        },
        "outputId": "1b015b88-3a8f-4b98-9501-7f61198f5b4a"
      },
      "cell_type": "code",
      "source": [
        "andamentos.data.iloc[0]\n"
      ],
      "execution_count": 11,
      "outputs": [
        {
          "output_type": "execute_result",
          "data": {
            "text/plain": [
              "Timestamp('1973-05-17 00:00:00')"
            ]
          },
          "metadata": {
            "tags": []
          },
          "execution_count": 11
        }
      ]
    },
    {
      "metadata": {
        "id": "V1Y51tBNvThd",
        "colab_type": "code",
        "colab": {
          "base_uri": "https://localhost:8080/",
          "height": 34
        },
        "outputId": "ee3016e4-7bd8-43ba-f01d-c4567f81ae85"
      },
      "cell_type": "code",
      "source": [
        "andamentos['descricao'][233]"
      ],
      "execution_count": 13,
      "outputs": [
        {
          "output_type": "execute_result",
          "data": {
            "text/plain": [
              "'Autos no Prazo Ofício Expedido Ofício - Cartório Registro Imóveis - Averbação de Penhora - Execução Fiscal '"
            ]
          },
          "metadata": {
            "tags": []
          },
          "execution_count": 13
        }
      ]
    },
    {
      "metadata": {
        "id": "I_FKEltLvThg",
        "colab_type": "code",
        "colab": {
          "base_uri": "https://localhost:8080/",
          "height": 1071
        },
        "outputId": "849df784-9874-435c-f524-c14ced022ce4"
      },
      "cell_type": "code",
      "source": [
        "andamentos['acao'].value_counts()"
      ],
      "execution_count": 14,
      "outputs": [
        {
          "output_type": "execute_result",
          "data": {
            "text/plain": [
              "Contratos Bancários                                                            7983\n",
              "Inventário e Partilha                                                          5549\n",
              "Recuperação judicial e Falência                                                5295\n",
              "Liquidação / Cumprimento / Execução                                            4750\n",
              "Espécies de Contratos                                                          4636\n",
              "Locação de Imóvel                                                              4607\n",
              "Indenização por Dano Moral                                                     4073\n",
              "Despesas Condominiais                                                          3803\n",
              "Cheque                                                                         3753\n",
              "Duplicata                                                                      3690\n",
              "Obrigação de Fazer / Não Fazer                                                 2744\n",
              "Servidor Público Civil                                                         2672\n",
              "Inadimplemento                                                                 2585\n",
              "Prestação de Serviços                                                          2331\n",
              "Indenização por Dano Material                                                  2286\n",
              "Compra e Venda                                                                 2155\n",
              "Obrigações                                                                     1964\n",
              "Espécies de Títulos de Crédito                                                 1950\n",
              "Pagamento                                                                      1768\n",
              "ICMS/ Imposto sobre Circulação de Mercadorias                                  1694\n",
              "Cédula de Crédito Bancário                                                     1690\n",
              "Propriedade                                                                    1659\n",
              "Posse                                                                          1600\n",
              "Sistema Remuneratório e Benefícios                                             1564\n",
              "Rescisão do contrato e devolução do dinheiro                                   1391\n",
              "Planos de Saúde                                                                1233\n",
              "Dívida Ativa                                                                   1203\n",
              "Improbidade Administrativa                                                     1189\n",
              "Constrição / Penhora / Avaliação / Indisponibilidade de Bens                   1162\n",
              "Alienação Fiduciária                                                           1155\n",
              "                                                                               ... \n",
              "Municipais                                                                       12\n",
              "Reajustes e Revisões Específicos                                                 11\n",
              "Interrogatório                                                                   10\n",
              "Antecipação de Tutela / Tutela Específica                                        10\n",
              "Nota de Crédito Comercial                                                        10\n",
              "Uso de documento falso                                                            9\n",
              "Ingresso e Concurso                                                               9\n",
              "CNH - Carteira Nacional de Habilitação                                            9\n",
              "Extinção do Crédito Tributário                                                    8\n",
              "ICMS / Incidência Sobre o Ativo Fixo                                              7\n",
              "Contribuição sobre a folha de salários                                            6\n",
              "Rescisão                                                                          6\n",
              "Homicídio Simples                                                                 6\n",
              "Franquia                                                                          6\n",
              "Contribuições                                                                     6\n",
              "Cofins                                                                            6\n",
              "Crimes Praticados por Particular Contra a Administração em Geral                  5\n",
              "Caução / Contracautela                                                            5\n",
              "Serviços Profissionais                                                            5\n",
              "Diárias e Outras Indenizações                                                     4\n",
              "Crimes Praticados por Funcionários Públicos Contra a Administração em Geral       4\n",
              "Esbulho possessório                                                               4\n",
              "Classificação de créditos                                                         2\n",
              "Serviços Hospitalares                                                             1\n",
              "Tempo de serviço                                                                  1\n",
              "II/ Imposto sobre Importação                                                      1\n",
              "Irredutibilidade de Vencimentos                                                   1\n",
              "Apropriação indébita                                                              1\n",
              "Diligências                                                                       1\n",
              "Revogação                                                                         1\n",
              "Name: acao, Length: 321, dtype: int64"
            ]
          },
          "metadata": {
            "tags": []
          },
          "execution_count": 14
        }
      ]
    },
    {
      "metadata": {
        "id": "GAZN0RUGvThj",
        "colab_type": "code",
        "colab": {
          "base_uri": "https://localhost:8080/",
          "height": 34
        },
        "outputId": "74423987-088f-41d3-d07c-f99b9e421480"
      },
      "cell_type": "code",
      "source": [
        "import time\n",
        "s = \"01/01/2017 00:00:00\"\n",
        "seconds = datetime.datetime.strptime(s, \"%d/%m/%Y  %H:%M:%S\")\n",
        "print(seconds)"
      ],
      "execution_count": 15,
      "outputs": [
        {
          "output_type": "stream",
          "text": [
            "2017-01-01 00:00:00\n"
          ],
          "name": "stdout"
        }
      ]
    },
    {
      "metadata": {
        "id": "sF49M5iPvThn",
        "colab_type": "code",
        "colab": {}
      },
      "cell_type": "code",
      "source": [
        "import time\n",
        "s = \"01/01/2017 00:00:00\"\n",
        "limite = datetime.datetime.strptime(s, \"%d/%m/%Y  %H:%M:%S\")\n",
        "\n",
        "train=andamentos[(andamentos['data']<limite)]  \n",
        "test=andamentos[(andamentos['data']>=limite)]  "
      ],
      "execution_count": 0,
      "outputs": []
    },
    {
      "metadata": {
        "id": "QFDxxmRovThp",
        "colab_type": "code",
        "colab": {
          "base_uri": "https://localhost:8080/",
          "height": 34
        },
        "outputId": "147995e5-b8f3-4b22-ae81-906c209184aa"
      },
      "cell_type": "code",
      "source": [
        "train.shape, test.shape"
      ],
      "execution_count": 17,
      "outputs": [
        {
          "output_type": "execute_result",
          "data": {
            "text/plain": [
              "((76651, 6), (71772, 6))"
            ]
          },
          "metadata": {
            "tags": []
          },
          "execution_count": 17
        }
      ]
    },
    {
      "metadata": {
        "id": "YJdZQyBKvThs",
        "colab_type": "text"
      },
      "cell_type": "markdown",
      "source": [
        "## Preprocessamento\n",
        "\n",
        "1- retira acentos\n",
        "2- retira tudo que não é letra (como pontuação e números)\n",
        "3- tudo em minúsculo\n",
        "4- retira stopwords\n",
        "5- stemmers (deixar só o radical das palavras)"
      ]
    },
    {
      "metadata": {
        "id": "IHW1dPcUvTht",
        "colab_type": "code",
        "colab": {}
      },
      "cell_type": "code",
      "source": [
        "def remover_acentos(txt):\n",
        "    return normalize('NFKD', txt).encode('ASCII', 'ignore').decode('ASCII')\n",
        "\n",
        "def preprocessamento( descricao, remove_stopwords=True):\n",
        "    # Function to convert a document to a sequence of words,\n",
        "    # optionally removing stop words.  Returns a list of words.\n",
        "    #\n",
        "    # 1. Remove acentuacao\n",
        "    review_text = remover_acentos(descricao)\n",
        "\n",
        "    #\n",
        "    # 2. Remove numeros\n",
        "    review_text = re.sub(\"[^a-zA-Z]\",\" \", review_text)\n",
        "    #\n",
        "    # 3. Lower case\n",
        "    words = review_text.lower().split()\n",
        "    #\n",
        "    # 4. Remover stopwords\n",
        "    if remove_stopwords:\n",
        "        stops = set(stopwords.words(\"portuguese\"))\n",
        "        words = [w for w in words if not w in stops]\n",
        "\n",
        "    b=[]\n",
        "    stemmer = portuguese_stemmer #PorterStemmer()\n",
        "    for word in words:\n",
        "        b.append(stemmer.stem(word))\n",
        "\n",
        "    # 5. Return a list of words\n",
        "    return(b)"
      ],
      "execution_count": 0,
      "outputs": []
    },
    {
      "metadata": {
        "id": "TnxQoiZ22JVH",
        "colab_type": "code",
        "colab": {
          "base_uri": "https://localhost:8080/",
          "height": 68
        },
        "outputId": "12f4c716-2d87-47b3-ab58-7eae50eba939"
      },
      "cell_type": "code",
      "source": [
        "import nltk\n",
        "nltk.download('stopwords')"
      ],
      "execution_count": 20,
      "outputs": [
        {
          "output_type": "stream",
          "text": [
            "[nltk_data] Downloading package stopwords to /root/nltk_data...\n",
            "[nltk_data]   Package stopwords is already up-to-date!\n"
          ],
          "name": "stdout"
        },
        {
          "output_type": "execute_result",
          "data": {
            "text/plain": [
              "True"
            ]
          },
          "metadata": {
            "tags": []
          },
          "execution_count": 20
        }
      ]
    },
    {
      "metadata": {
        "id": "I_O073EtvThw",
        "colab_type": "code",
        "colab": {
          "base_uri": "https://localhost:8080/",
          "height": 255
        },
        "outputId": "5ac33e61-6e68-48b2-9b67-5abb6c09183d"
      },
      "cell_type": "code",
      "source": [
        "preprocessamento(andamentos.iloc[177].descricao)"
      ],
      "execution_count": 21,
      "outputs": [
        {
          "output_type": "execute_result",
          "data": {
            "text/plain": [
              "['redistribuica',\n",
              " 'process',\n",
              " 'said',\n",
              " 'redistribuica',\n",
              " 'process',\n",
              " 'said',\n",
              " 'process',\n",
              " 'redistribu',\n",
              " 'sortei',\n",
              " 'conf',\n",
              " 'desp',\n",
              " 'mm',\n",
              " 'juiz',\n",
              " 'fls']"
            ]
          },
          "metadata": {
            "tags": []
          },
          "execution_count": 21
        }
      ]
    },
    {
      "metadata": {
        "id": "tw9TV-PfvTh1",
        "colab_type": "code",
        "colab": {}
      },
      "cell_type": "code",
      "source": [
        "andamentos_revisados_train=[]\n",
        "for i in range(train.shape[0]):\n",
        "    andamentos_revisados_train.append(\" \".join(preprocessamento(train.iloc[i].descricao)))\n",
        "\n",
        "    \n",
        "andamentos_revisados_test=[]\n",
        "for i in range(test.shape[0]):\n",
        "    andamentos_revisados_test.append(\" \".join(preprocessamento(test.iloc[i].descricao)))"
      ],
      "execution_count": 0,
      "outputs": []
    },
    {
      "metadata": {
        "id": "4V93rX8rvTh5",
        "colab_type": "code",
        "colab": {}
      },
      "cell_type": "code",
      "source": [
        "y_train = train['timedelta']\n",
        "y_test = test['timedelta']"
      ],
      "execution_count": 0,
      "outputs": []
    },
    {
      "metadata": {
        "id": "JSFt-ilovTh7",
        "colab_type": "text"
      },
      "cell_type": "markdown",
      "source": [
        "## TF-IDF"
      ]
    },
    {
      "metadata": {
        "id": "uv9IJQ2MvTh9",
        "colab_type": "code",
        "colab": {}
      },
      "cell_type": "code",
      "source": [
        "vectorizer = TfidfVectorizer()\n",
        "\n",
        "vectorizer = vectorizer.fit(andamentos_revisados_train)\n",
        "train_features = vectorizer.transform(andamentos_revisados_train)\n",
        "test_features = vectorizer.transform(andamentos_revisados_test)"
      ],
      "execution_count": 0,
      "outputs": []
    },
    {
      "metadata": {
        "id": "A3Md1KgRvTh-",
        "colab_type": "code",
        "colab": {
          "base_uri": "https://localhost:8080/",
          "height": 34
        },
        "outputId": "dd71f9f8-8ae2-4689-fd9b-62cf20c58cac"
      },
      "cell_type": "code",
      "source": [
        "train_features.shape, test_features.shape"
      ],
      "execution_count": 25,
      "outputs": [
        {
          "output_type": "execute_result",
          "data": {
            "text/plain": [
              "((76651, 19388), (71772, 19388))"
            ]
          },
          "metadata": {
            "tags": []
          },
          "execution_count": 25
        }
      ]
    },
    {
      "metadata": {
        "id": "lZe03XgUvTiC",
        "colab_type": "code",
        "colab": {
          "base_uri": "https://localhost:8080/",
          "height": 34
        },
        "outputId": "63ee1729-5c83-4bbd-88f6-d2d621e97df3"
      },
      "cell_type": "code",
      "source": [
        "print(vectorizer.get_feature_names()[2999])"
      ],
      "execution_count": 26,
      "outputs": [
        {
          "output_type": "stream",
          "text": [
            "casareg\n"
          ],
          "name": "stdout"
        }
      ]
    },
    {
      "metadata": {
        "id": "hF146oqdvTiE",
        "colab_type": "text"
      },
      "cell_type": "markdown",
      "source": [
        "## LightGBM + TF-IDF"
      ]
    },
    {
      "metadata": {
        "id": "qH4CFw9gvTiG",
        "colab_type": "code",
        "colab": {
          "base_uri": "https://localhost:8080/",
          "height": 2380
        },
        "outputId": "12cc4277-d9f0-4cff-bcf7-cacd9c5e88de"
      },
      "cell_type": "code",
      "source": [
        "SEED = 1990\n",
        "\n",
        "model = lgb.LGBMRegressor(boosting_type='gbdt', \n",
        "                          num_leaves=31, \n",
        "                          max_depth=-1, \n",
        "                          learning_rate=0.01, \n",
        "                          n_estimators=1000, \n",
        "                          max_bin=255, \n",
        "                          subsample_for_bin=50000, \n",
        "                          objective=None, \n",
        "                          min_split_gain=0, \n",
        "                          min_child_weight=3,\n",
        "                          min_child_samples=10, \n",
        "                          subsample=1, \n",
        "                          subsample_freq=1, \n",
        "                          colsample_bytree=1, \n",
        "                          reg_alpha=0.1, \n",
        "                          reg_lambda=0, \n",
        "                          seed=17,\n",
        "                          silent=False, \n",
        "                          nthread=-1)\n",
        "\n",
        "model.fit(train_features,y_train,eval_set=[(train_features, y_train),(test_features,y_test)], eval_metric=\"rmse\", early_stopping_rounds=100)"
      ],
      "execution_count": 42,
      "outputs": [
        {
          "output_type": "stream",
          "text": [
            "[1]\tvalid_0's rmse: 122.347\tvalid_0's l2: 14968.9\tvalid_1's rmse: 35.0811\tvalid_1's l2: 1230.68\n",
            "Training until validation scores don't improve for 100 rounds.\n",
            "[2]\tvalid_0's rmse: 122.117\tvalid_0's l2: 14912.7\tvalid_1's rmse: 34.9909\tvalid_1's l2: 1224.37\n",
            "[3]\tvalid_0's rmse: 121.892\tvalid_0's l2: 14857.6\tvalid_1's rmse: 34.9058\tvalid_1's l2: 1218.42\n",
            "[4]\tvalid_0's rmse: 121.67\tvalid_0's l2: 14803.6\tvalid_1's rmse: 34.8256\tvalid_1's l2: 1212.82\n",
            "[5]\tvalid_0's rmse: 121.453\tvalid_0's l2: 14750.8\tvalid_1's rmse: 34.7534\tvalid_1's l2: 1207.8\n",
            "[6]\tvalid_0's rmse: 121.24\tvalid_0's l2: 14699\tvalid_1's rmse: 34.6792\tvalid_1's l2: 1202.65\n",
            "[7]\tvalid_0's rmse: 121.029\tvalid_0's l2: 14648.1\tvalid_1's rmse: 34.6112\tvalid_1's l2: 1197.94\n",
            "[8]\tvalid_0's rmse: 120.824\tvalid_0's l2: 14598.3\tvalid_1's rmse: 34.5519\tvalid_1's l2: 1193.83\n",
            "[9]\tvalid_0's rmse: 120.622\tvalid_0's l2: 14549.6\tvalid_1's rmse: 34.4952\tvalid_1's l2: 1189.92\n",
            "[10]\tvalid_0's rmse: 120.423\tvalid_0's l2: 14501.7\tvalid_1's rmse: 34.4362\tvalid_1's l2: 1185.85\n",
            "[11]\tvalid_0's rmse: 120.227\tvalid_0's l2: 14454.6\tvalid_1's rmse: 34.3937\tvalid_1's l2: 1182.93\n",
            "[12]\tvalid_0's rmse: 120.036\tvalid_0's l2: 14408.6\tvalid_1's rmse: 34.3439\tvalid_1's l2: 1179.51\n",
            "[13]\tvalid_0's rmse: 119.847\tvalid_0's l2: 14363.2\tvalid_1's rmse: 34.2994\tvalid_1's l2: 1176.45\n",
            "[14]\tvalid_0's rmse: 119.663\tvalid_0's l2: 14319.2\tvalid_1's rmse: 34.2623\tvalid_1's l2: 1173.91\n",
            "[15]\tvalid_0's rmse: 119.483\tvalid_0's l2: 14276.1\tvalid_1's rmse: 34.2259\tvalid_1's l2: 1171.41\n",
            "[16]\tvalid_0's rmse: 119.305\tvalid_0's l2: 14233.7\tvalid_1's rmse: 34.1906\tvalid_1's l2: 1169\n",
            "[17]\tvalid_0's rmse: 119.129\tvalid_0's l2: 14191.7\tvalid_1's rmse: 34.1584\tvalid_1's l2: 1166.8\n",
            "[18]\tvalid_0's rmse: 118.958\tvalid_0's l2: 14150.9\tvalid_1's rmse: 34.1248\tvalid_1's l2: 1164.51\n",
            "[19]\tvalid_0's rmse: 118.789\tvalid_0's l2: 14110.8\tvalid_1's rmse: 34.1018\tvalid_1's l2: 1162.93\n",
            "[20]\tvalid_0's rmse: 118.624\tvalid_0's l2: 14071.6\tvalid_1's rmse: 34.0733\tvalid_1's l2: 1160.99\n",
            "[21]\tvalid_0's rmse: 118.461\tvalid_0's l2: 14033.1\tvalid_1's rmse: 34.0598\tvalid_1's l2: 1160.07\n",
            "[22]\tvalid_0's rmse: 118.295\tvalid_0's l2: 13993.7\tvalid_1's rmse: 34.036\tvalid_1's l2: 1158.45\n",
            "[23]\tvalid_0's rmse: 118.138\tvalid_0's l2: 13956.6\tvalid_1's rmse: 34.0242\tvalid_1's l2: 1157.65\n",
            "[24]\tvalid_0's rmse: 117.981\tvalid_0's l2: 13919.6\tvalid_1's rmse: 34.0161\tvalid_1's l2: 1157.09\n",
            "[25]\tvalid_0's rmse: 117.824\tvalid_0's l2: 13882.4\tvalid_1's rmse: 34.0035\tvalid_1's l2: 1156.24\n",
            "[26]\tvalid_0's rmse: 117.674\tvalid_0's l2: 13847.3\tvalid_1's rmse: 33.997\tvalid_1's l2: 1155.8\n",
            "[27]\tvalid_0's rmse: 117.521\tvalid_0's l2: 13811.2\tvalid_1's rmse: 33.9958\tvalid_1's l2: 1155.72\n",
            "[28]\tvalid_0's rmse: 117.376\tvalid_0's l2: 13777.1\tvalid_1's rmse: 33.9907\tvalid_1's l2: 1155.37\n",
            "[29]\tvalid_0's rmse: 117.231\tvalid_0's l2: 13743.2\tvalid_1's rmse: 33.9901\tvalid_1's l2: 1155.33\n",
            "[30]\tvalid_0's rmse: 117.091\tvalid_0's l2: 13710.2\tvalid_1's rmse: 33.9952\tvalid_1's l2: 1155.68\n",
            "[31]\tvalid_0's rmse: 116.948\tvalid_0's l2: 13676.9\tvalid_1's rmse: 33.9975\tvalid_1's l2: 1155.83\n",
            "[32]\tvalid_0's rmse: 116.807\tvalid_0's l2: 13643.9\tvalid_1's rmse: 34.0036\tvalid_1's l2: 1156.24\n",
            "[33]\tvalid_0's rmse: 116.675\tvalid_0's l2: 13612.9\tvalid_1's rmse: 34.0141\tvalid_1's l2: 1156.96\n",
            "[34]\tvalid_0's rmse: 116.542\tvalid_0's l2: 13582.1\tvalid_1's rmse: 34.0227\tvalid_1's l2: 1157.55\n",
            "[35]\tvalid_0's rmse: 116.414\tvalid_0's l2: 13552.2\tvalid_1's rmse: 34.0357\tvalid_1's l2: 1158.43\n",
            "[36]\tvalid_0's rmse: 116.286\tvalid_0's l2: 13522.5\tvalid_1's rmse: 34.0541\tvalid_1's l2: 1159.68\n",
            "[37]\tvalid_0's rmse: 116.157\tvalid_0's l2: 13492.5\tvalid_1's rmse: 34.064\tvalid_1's l2: 1160.36\n",
            "[38]\tvalid_0's rmse: 116.034\tvalid_0's l2: 13464\tvalid_1's rmse: 34.0844\tvalid_1's l2: 1161.75\n",
            "[39]\tvalid_0's rmse: 115.915\tvalid_0's l2: 13436.3\tvalid_1's rmse: 34.106\tvalid_1's l2: 1163.22\n",
            "[40]\tvalid_0's rmse: 115.792\tvalid_0's l2: 13407.7\tvalid_1's rmse: 34.1239\tvalid_1's l2: 1164.44\n",
            "[41]\tvalid_0's rmse: 115.674\tvalid_0's l2: 13380.4\tvalid_1's rmse: 34.1457\tvalid_1's l2: 1165.93\n",
            "[42]\tvalid_0's rmse: 115.558\tvalid_0's l2: 13353.7\tvalid_1's rmse: 34.172\tvalid_1's l2: 1167.73\n",
            "[43]\tvalid_0's rmse: 115.44\tvalid_0's l2: 13326.5\tvalid_1's rmse: 34.19\tvalid_1's l2: 1168.95\n",
            "[44]\tvalid_0's rmse: 115.329\tvalid_0's l2: 13300.8\tvalid_1's rmse: 34.2137\tvalid_1's l2: 1170.58\n",
            "[45]\tvalid_0's rmse: 115.219\tvalid_0's l2: 13275.4\tvalid_1's rmse: 34.244\tvalid_1's l2: 1172.65\n",
            "[46]\tvalid_0's rmse: 115.107\tvalid_0's l2: 13249.7\tvalid_1's rmse: 34.2712\tvalid_1's l2: 1174.51\n",
            "[47]\tvalid_0's rmse: 115.001\tvalid_0's l2: 13225.3\tvalid_1's rmse: 34.2994\tvalid_1's l2: 1176.45\n",
            "[48]\tvalid_0's rmse: 114.896\tvalid_0's l2: 13201.2\tvalid_1's rmse: 34.3362\tvalid_1's l2: 1178.97\n",
            "[49]\tvalid_0's rmse: 114.795\tvalid_0's l2: 13177.9\tvalid_1's rmse: 34.3663\tvalid_1's l2: 1181.04\n",
            "[50]\tvalid_0's rmse: 114.693\tvalid_0's l2: 13154.6\tvalid_1's rmse: 34.3971\tvalid_1's l2: 1183.16\n",
            "[51]\tvalid_0's rmse: 114.595\tvalid_0's l2: 13132\tvalid_1's rmse: 34.4404\tvalid_1's l2: 1186.14\n",
            "[52]\tvalid_0's rmse: 114.495\tvalid_0's l2: 13109.1\tvalid_1's rmse: 34.4703\tvalid_1's l2: 1188.2\n",
            "[53]\tvalid_0's rmse: 114.395\tvalid_0's l2: 13086.2\tvalid_1's rmse: 34.501\tvalid_1's l2: 1190.32\n",
            "[54]\tvalid_0's rmse: 114.301\tvalid_0's l2: 13064.7\tvalid_1's rmse: 34.5464\tvalid_1's l2: 1193.46\n",
            "[55]\tvalid_0's rmse: 114.204\tvalid_0's l2: 13042.6\tvalid_1's rmse: 34.579\tvalid_1's l2: 1195.71\n",
            "[56]\tvalid_0's rmse: 114.107\tvalid_0's l2: 13020.4\tvalid_1's rmse: 34.6113\tvalid_1's l2: 1197.94\n",
            "[57]\tvalid_0's rmse: 114.013\tvalid_0's l2: 12998.9\tvalid_1's rmse: 34.6415\tvalid_1's l2: 1200.03\n",
            "[58]\tvalid_0's rmse: 113.917\tvalid_0's l2: 12977.1\tvalid_1's rmse: 34.6774\tvalid_1's l2: 1202.52\n",
            "[59]\tvalid_0's rmse: 113.825\tvalid_0's l2: 12956.2\tvalid_1's rmse: 34.7126\tvalid_1's l2: 1204.97\n",
            "[60]\tvalid_0's rmse: 113.734\tvalid_0's l2: 12935.5\tvalid_1's rmse: 34.7426\tvalid_1's l2: 1207.05\n",
            "[61]\tvalid_0's rmse: 113.645\tvalid_0's l2: 12915.1\tvalid_1's rmse: 34.7778\tvalid_1's l2: 1209.5\n",
            "[62]\tvalid_0's rmse: 113.557\tvalid_0's l2: 12895.1\tvalid_1's rmse: 34.8103\tvalid_1's l2: 1211.76\n",
            "[63]\tvalid_0's rmse: 113.452\tvalid_0's l2: 12871.4\tvalid_1's rmse: 34.7612\tvalid_1's l2: 1208.34\n",
            "[64]\tvalid_0's rmse: 113.366\tvalid_0's l2: 12851.9\tvalid_1's rmse: 34.7985\tvalid_1's l2: 1210.94\n",
            "[65]\tvalid_0's rmse: 113.283\tvalid_0's l2: 12833\tvalid_1's rmse: 34.8359\tvalid_1's l2: 1213.54\n",
            "[66]\tvalid_0's rmse: 113.179\tvalid_0's l2: 12809.5\tvalid_1's rmse: 34.7911\tvalid_1's l2: 1210.42\n",
            "[67]\tvalid_0's rmse: 113.097\tvalid_0's l2: 12791\tvalid_1's rmse: 34.8286\tvalid_1's l2: 1213.03\n",
            "[68]\tvalid_0's rmse: 112.995\tvalid_0's l2: 12767.9\tvalid_1's rmse: 34.7834\tvalid_1's l2: 1209.89\n",
            "[69]\tvalid_0's rmse: 112.912\tvalid_0's l2: 12749.1\tvalid_1's rmse: 34.8213\tvalid_1's l2: 1212.52\n",
            "[70]\tvalid_0's rmse: 112.795\tvalid_0's l2: 12722.7\tvalid_1's rmse: 34.8617\tvalid_1's l2: 1215.34\n",
            "[71]\tvalid_0's rmse: 112.701\tvalid_0's l2: 12701.4\tvalid_1's rmse: 34.8215\tvalid_1's l2: 1212.54\n",
            "[72]\tvalid_0's rmse: 112.587\tvalid_0's l2: 12675.8\tvalid_1's rmse: 34.8617\tvalid_1's l2: 1215.33\n",
            "[73]\tvalid_0's rmse: 112.51\tvalid_0's l2: 12658.4\tvalid_1's rmse: 34.9016\tvalid_1's l2: 1218.12\n",
            "[74]\tvalid_0's rmse: 112.38\tvalid_0's l2: 12629.2\tvalid_1's rmse: 34.8589\tvalid_1's l2: 1215.14\n",
            "[75]\tvalid_0's rmse: 112.304\tvalid_0's l2: 12612.2\tvalid_1's rmse: 34.9013\tvalid_1's l2: 1218.1\n",
            "[76]\tvalid_0's rmse: 112.195\tvalid_0's l2: 12587.8\tvalid_1's rmse: 34.9393\tvalid_1's l2: 1220.76\n",
            "[77]\tvalid_0's rmse: 112.106\tvalid_0's l2: 12567.7\tvalid_1's rmse: 34.9037\tvalid_1's l2: 1218.27\n",
            "[78]\tvalid_0's rmse: 111.982\tvalid_0's l2: 12540\tvalid_1's rmse: 34.8606\tvalid_1's l2: 1215.26\n",
            "[79]\tvalid_0's rmse: 111.91\tvalid_0's l2: 12523.8\tvalid_1's rmse: 34.9027\tvalid_1's l2: 1218.2\n",
            "[80]\tvalid_0's rmse: 111.806\tvalid_0's l2: 12500.6\tvalid_1's rmse: 34.942\tvalid_1's l2: 1220.94\n",
            "[81]\tvalid_0's rmse: 111.719\tvalid_0's l2: 12481\tvalid_1's rmse: 34.9069\tvalid_1's l2: 1218.49\n",
            "[82]\tvalid_0's rmse: 111.617\tvalid_0's l2: 12458.4\tvalid_1's rmse: 34.9552\tvalid_1's l2: 1221.86\n",
            "[83]\tvalid_0's rmse: 111.533\tvalid_0's l2: 12439.7\tvalid_1's rmse: 34.9104\tvalid_1's l2: 1218.74\n",
            "[84]\tvalid_0's rmse: 111.435\tvalid_0's l2: 12417.7\tvalid_1's rmse: 34.9557\tvalid_1's l2: 1221.9\n",
            "[85]\tvalid_0's rmse: 111.37\tvalid_0's l2: 12403.2\tvalid_1's rmse: 34.9971\tvalid_1's l2: 1224.79\n",
            "[86]\tvalid_0's rmse: 111.254\tvalid_0's l2: 12377.5\tvalid_1's rmse: 34.9602\tvalid_1's l2: 1222.22\n",
            "[87]\tvalid_0's rmse: 111.193\tvalid_0's l2: 12364\tvalid_1's rmse: 35.007\tvalid_1's l2: 1225.49\n",
            "[88]\tvalid_0's rmse: 111.112\tvalid_0's l2: 12345.9\tvalid_1's rmse: 34.9669\tvalid_1's l2: 1222.68\n",
            "[89]\tvalid_0's rmse: 111.014\tvalid_0's l2: 12324.1\tvalid_1's rmse: 35.0104\tvalid_1's l2: 1225.73\n",
            "[90]\tvalid_0's rmse: 110.952\tvalid_0's l2: 12310.3\tvalid_1's rmse: 35.0543\tvalid_1's l2: 1228.81\n",
            "[91]\tvalid_0's rmse: 110.876\tvalid_0's l2: 12293.4\tvalid_1's rmse: 35.0249\tvalid_1's l2: 1226.75\n",
            "[92]\tvalid_0's rmse: 110.817\tvalid_0's l2: 12280.3\tvalid_1's rmse: 35.0791\tvalid_1's l2: 1230.54\n",
            "[93]\tvalid_0's rmse: 110.738\tvalid_0's l2: 12262.8\tvalid_1's rmse: 35.039\tvalid_1's l2: 1227.73\n",
            "[94]\tvalid_0's rmse: 110.679\tvalid_0's l2: 12249.9\tvalid_1's rmse: 35.0847\tvalid_1's l2: 1230.93\n",
            "[95]\tvalid_0's rmse: 110.605\tvalid_0's l2: 12233.6\tvalid_1's rmse: 35.0693\tvalid_1's l2: 1229.86\n",
            "[96]\tvalid_0's rmse: 110.55\tvalid_0's l2: 12221.3\tvalid_1's rmse: 35.1155\tvalid_1's l2: 1233.1\n",
            "[97]\tvalid_0's rmse: 110.474\tvalid_0's l2: 12204.6\tvalid_1's rmse: 35.0789\tvalid_1's l2: 1230.53\n",
            "[98]\tvalid_0's rmse: 110.418\tvalid_0's l2: 12192.2\tvalid_1's rmse: 35.1314\tvalid_1's l2: 1234.22\n",
            "[99]\tvalid_0's rmse: 110.364\tvalid_0's l2: 12180.3\tvalid_1's rmse: 35.1917\tvalid_1's l2: 1238.46\n",
            "[100]\tvalid_0's rmse: 110.29\tvalid_0's l2: 12164\tvalid_1's rmse: 35.1645\tvalid_1's l2: 1236.54\n",
            "[101]\tvalid_0's rmse: 110.236\tvalid_0's l2: 12151.9\tvalid_1's rmse: 35.2145\tvalid_1's l2: 1240.06\n",
            "[102]\tvalid_0's rmse: 110.159\tvalid_0's l2: 12134.9\tvalid_1's rmse: 35.1801\tvalid_1's l2: 1237.64\n",
            "[103]\tvalid_0's rmse: 110.106\tvalid_0's l2: 12123.3\tvalid_1's rmse: 35.2276\tvalid_1's l2: 1240.98\n",
            "[104]\tvalid_0's rmse: 110.049\tvalid_0's l2: 12110.8\tvalid_1's rmse: 35.2829\tvalid_1's l2: 1244.89\n",
            "[105]\tvalid_0's rmse: 109.974\tvalid_0's l2: 12094.3\tvalid_1's rmse: 35.2523\tvalid_1's l2: 1242.72\n",
            "[106]\tvalid_0's rmse: 109.923\tvalid_0's l2: 12083\tvalid_1's rmse: 35.3024\tvalid_1's l2: 1246.26\n",
            "[107]\tvalid_0's rmse: 109.848\tvalid_0's l2: 12066.6\tvalid_1's rmse: 35.2701\tvalid_1's l2: 1243.98\n",
            "[108]\tvalid_0's rmse: 109.797\tvalid_0's l2: 12055.5\tvalid_1's rmse: 35.3157\tvalid_1's l2: 1247.2\n",
            "[109]\tvalid_0's rmse: 109.745\tvalid_0's l2: 12044.1\tvalid_1's rmse: 35.362\tvalid_1's l2: 1250.47\n",
            "[110]\tvalid_0's rmse: 109.678\tvalid_0's l2: 12029.2\tvalid_1's rmse: 35.3364\tvalid_1's l2: 1248.66\n",
            "[111]\tvalid_0's rmse: 109.625\tvalid_0's l2: 12017.6\tvalid_1's rmse: 35.3885\tvalid_1's l2: 1252.34\n",
            "[112]\tvalid_0's rmse: 109.558\tvalid_0's l2: 12002.9\tvalid_1's rmse: 35.3535\tvalid_1's l2: 1249.87\n",
            "[113]\tvalid_0's rmse: 109.506\tvalid_0's l2: 11991.5\tvalid_1's rmse: 35.3954\tvalid_1's l2: 1252.84\n",
            "[114]\tvalid_0's rmse: 109.455\tvalid_0's l2: 11980.4\tvalid_1's rmse: 35.4548\tvalid_1's l2: 1257.05\n",
            "[115]\tvalid_0's rmse: 109.389\tvalid_0's l2: 11966\tvalid_1's rmse: 35.4305\tvalid_1's l2: 1255.32\n",
            "[116]\tvalid_0's rmse: 109.339\tvalid_0's l2: 11955.1\tvalid_1's rmse: 35.4833\tvalid_1's l2: 1259.06\n",
            "[117]\tvalid_0's rmse: 109.274\tvalid_0's l2: 11940.9\tvalid_1's rmse: 35.4464\tvalid_1's l2: 1256.45\n",
            "[118]\tvalid_0's rmse: 109.225\tvalid_0's l2: 11930\tvalid_1's rmse: 35.4881\tvalid_1's l2: 1259.41\n",
            "[119]\tvalid_0's rmse: 109.179\tvalid_0's l2: 11920\tvalid_1's rmse: 35.5492\tvalid_1's l2: 1263.74\n",
            "[120]\tvalid_0's rmse: 109.113\tvalid_0's l2: 11905.7\tvalid_1's rmse: 35.5229\tvalid_1's l2: 1261.88\n",
            "[121]\tvalid_0's rmse: 109.066\tvalid_0's l2: 11895.4\tvalid_1's rmse: 35.5746\tvalid_1's l2: 1265.55\n",
            "[122]\tvalid_0's rmse: 109.002\tvalid_0's l2: 11881.5\tvalid_1's rmse: 35.5377\tvalid_1's l2: 1262.93\n",
            "[123]\tvalid_0's rmse: 108.954\tvalid_0's l2: 11871\tvalid_1's rmse: 35.5784\tvalid_1's l2: 1265.82\n",
            "[124]\tvalid_0's rmse: 108.906\tvalid_0's l2: 11860.4\tvalid_1's rmse: 35.6346\tvalid_1's l2: 1269.82\n",
            "[125]\tvalid_0's rmse: 108.846\tvalid_0's l2: 11847.5\tvalid_1's rmse: 35.6156\tvalid_1's l2: 1268.47\n",
            "[126]\tvalid_0's rmse: 108.799\tvalid_0's l2: 11837.3\tvalid_1's rmse: 35.668\tvalid_1's l2: 1272.2\n",
            "[127]\tvalid_0's rmse: 108.739\tvalid_0's l2: 11824.1\tvalid_1's rmse: 35.6333\tvalid_1's l2: 1269.73\n",
            "[128]\tvalid_0's rmse: 108.695\tvalid_0's l2: 11814.7\tvalid_1's rmse: 35.6771\tvalid_1's l2: 1272.85\n",
            "[129]\tvalid_0's rmse: 108.649\tvalid_0's l2: 11804.7\tvalid_1's rmse: 35.7307\tvalid_1's l2: 1276.68\n",
            "Early stopping, best iteration is:\n",
            "[29]\tvalid_0's rmse: 117.231\tvalid_0's l2: 13743.2\tvalid_1's rmse: 33.9901\tvalid_1's l2: 1155.33\n"
          ],
          "name": "stdout"
        },
        {
          "output_type": "execute_result",
          "data": {
            "text/plain": [
              "LGBMRegressor(boosting_type='gbdt', class_weight=None, colsample_bytree=1,\n",
              "       importance_type='split', learning_rate=0.01, max_bin=255,\n",
              "       max_depth=-1, min_child_samples=10, min_child_weight=3,\n",
              "       min_split_gain=0, n_estimators=1000, n_jobs=-1, nthread=-1,\n",
              "       num_leaves=31, objective=None, random_state=None, reg_alpha=0.1,\n",
              "       reg_lambda=0, seed=17, silent=False, subsample=1,\n",
              "       subsample_for_bin=50000, subsample_freq=1)"
            ]
          },
          "metadata": {
            "tags": []
          },
          "execution_count": 42
        }
      ]
    },
    {
      "metadata": {
        "id": "S_4AzGKovTiH",
        "colab_type": "text"
      },
      "cell_type": "markdown",
      "source": [
        "## Tokenizer e sequences"
      ]
    },
    {
      "metadata": {
        "id": "9hrdIeIdvTiI",
        "colab_type": "code",
        "colab": {}
      },
      "cell_type": "code",
      "source": [
        "max_words = 15000\n",
        "\n",
        "tokenizer = Tokenizer(num_words=max_words)\n",
        "tokenizer.fit_on_texts(andamentos_revisados_train)\n",
        "sequences_train = tokenizer.texts_to_sequences(andamentos_revisados_train)\n",
        "sequences_test = tokenizer.texts_to_sequences(andamentos_revisados_test)"
      ],
      "execution_count": 0,
      "outputs": []
    },
    {
      "metadata": {
        "id": "yyEJ-38lvTiK",
        "colab_type": "code",
        "colab": {}
      },
      "cell_type": "code",
      "source": [
        "\n",
        "\n",
        "data_train = pad_sequences(sequences_train, maxlen=1000)\n",
        "data_test = pad_sequences(sequences_test, maxlen=1000)\n"
      ],
      "execution_count": 0,
      "outputs": []
    },
    {
      "metadata": {
        "id": "q12tP1G6vTiL",
        "colab_type": "text"
      },
      "cell_type": "markdown",
      "source": [
        "## Rede convolucional"
      ]
    },
    {
      "metadata": {
        "id": "mDfNvQrdvTiM",
        "colab_type": "code",
        "colab": {
          "base_uri": "https://localhost:8080/",
          "height": 340
        },
        "outputId": "56926eb0-5ca7-4292-98a7-8af54eac8217"
      },
      "cell_type": "code",
      "source": [
        "from keras.layers import MaxPooling1D,GlobalMaxPooling1D\n",
        "embedding_dim = 100\n",
        "model = Sequential()\n",
        "model.add(Embedding(max_words, embedding_dim, input_length=1000))\n",
        "model.add(Convolution1D(32,7,activation='relu'))\n",
        "model.add(MaxPooling1D(5))\n",
        "model.add(Convolution1D(32,7,activation='relu'))\n",
        "model.add(GlobalMaxPooling1D())\n",
        "model.add(Dense(1, kernel_initializer='normal'))\n",
        "\n",
        "model.summary()"
      ],
      "execution_count": 29,
      "outputs": [
        {
          "output_type": "stream",
          "text": [
            "_________________________________________________________________\n",
            "Layer (type)                 Output Shape              Param #   \n",
            "=================================================================\n",
            "embedding_1 (Embedding)      (None, 1000, 100)         1500000   \n",
            "_________________________________________________________________\n",
            "conv1d_1 (Conv1D)            (None, 994, 32)           22432     \n",
            "_________________________________________________________________\n",
            "max_pooling1d_1 (MaxPooling1 (None, 198, 32)           0         \n",
            "_________________________________________________________________\n",
            "conv1d_2 (Conv1D)            (None, 192, 32)           7200      \n",
            "_________________________________________________________________\n",
            "global_max_pooling1d_1 (Glob (None, 32)                0         \n",
            "_________________________________________________________________\n",
            "dense_1 (Dense)              (None, 1)                 33        \n",
            "=================================================================\n",
            "Total params: 1,529,665\n",
            "Trainable params: 1,529,665\n",
            "Non-trainable params: 0\n",
            "_________________________________________________________________\n"
          ],
          "name": "stdout"
        }
      ]
    },
    {
      "metadata": {
        "id": "vn0Go9iXvTiP",
        "colab_type": "code",
        "colab": {
          "base_uri": "https://localhost:8080/",
          "height": 34
        },
        "outputId": "6f849d7c-3fea-4c27-dd1c-da434fe7d04b"
      },
      "cell_type": "code",
      "source": [
        "data_train.shape"
      ],
      "execution_count": 30,
      "outputs": [
        {
          "output_type": "execute_result",
          "data": {
            "text/plain": [
              "(76651, 1000)"
            ]
          },
          "metadata": {
            "tags": []
          },
          "execution_count": 30
        }
      ]
    },
    {
      "metadata": {
        "id": "XitEaL2bvTiS",
        "colab_type": "code",
        "colab": {
          "base_uri": "https://localhost:8080/",
          "height": 1074
        },
        "outputId": "cd18ea16-82f8-4803-e7be-fc60af101d54"
      },
      "cell_type": "code",
      "source": [
        "model.compile(optimizer='adam',\n",
        "              loss='mse',\n",
        "              metrics=['mse'])\n",
        "history = model.fit(data_train, y_train,\n",
        "                    epochs=30,\n",
        "                    batch_size=128,\n",
        "                    validation_data=(data_test, y_test))"
      ],
      "execution_count": 31,
      "outputs": [
        {
          "output_type": "stream",
          "text": [
            "Train on 76651 samples, validate on 71772 samples\n",
            "Epoch 1/30\n",
            "76651/76651 [==============================] - 27s 359us/step - loss: 14926.0278 - mean_squared_error: 14926.0278 - val_loss: 1145.0903 - val_mean_squared_error: 1145.0903\n",
            "Epoch 2/30\n",
            "76651/76651 [==============================] - 23s 299us/step - loss: 14691.4861 - mean_squared_error: 14691.4861 - val_loss: 1145.2254 - val_mean_squared_error: 1145.2254\n",
            "Epoch 3/30\n",
            "76651/76651 [==============================] - 23s 299us/step - loss: 14504.3655 - mean_squared_error: 14504.3655 - val_loss: 1182.8536 - val_mean_squared_error: 1182.8536\n",
            "Epoch 4/30\n",
            "76651/76651 [==============================] - 23s 299us/step - loss: 14375.9580 - mean_squared_error: 14375.9580 - val_loss: 1262.4935 - val_mean_squared_error: 1262.4935\n",
            "Epoch 5/30\n",
            "76651/76651 [==============================] - 23s 299us/step - loss: 14263.2118 - mean_squared_error: 14263.2118 - val_loss: 1312.2103 - val_mean_squared_error: 1312.2103\n",
            "Epoch 6/30\n",
            "76651/76651 [==============================] - 23s 298us/step - loss: 14144.8391 - mean_squared_error: 14144.8391 - val_loss: 1207.7613 - val_mean_squared_error: 1207.7613\n",
            "Epoch 7/30\n",
            "76651/76651 [==============================] - 23s 298us/step - loss: 14015.0763 - mean_squared_error: 14015.0763 - val_loss: 1261.9009 - val_mean_squared_error: 1261.9009\n",
            "Epoch 8/30\n",
            "76651/76651 [==============================] - 23s 301us/step - loss: 13878.8549 - mean_squared_error: 13878.8549 - val_loss: 1343.7719 - val_mean_squared_error: 1343.7719\n",
            "Epoch 9/30\n",
            "76651/76651 [==============================] - 23s 302us/step - loss: 13719.6472 - mean_squared_error: 13719.6472 - val_loss: 1327.3979 - val_mean_squared_error: 1327.3979\n",
            "Epoch 10/30\n",
            "76651/76651 [==============================] - 23s 299us/step - loss: 13524.9566 - mean_squared_error: 13524.9566 - val_loss: 1323.0205 - val_mean_squared_error: 1323.0205\n",
            "Epoch 11/30\n",
            "76651/76651 [==============================] - 23s 299us/step - loss: 13326.6239 - mean_squared_error: 13326.6239 - val_loss: 1322.5428 - val_mean_squared_error: 1322.5428\n",
            "Epoch 12/30\n",
            "76651/76651 [==============================] - 23s 299us/step - loss: 13091.2460 - mean_squared_error: 13091.2460 - val_loss: 1269.3216 - val_mean_squared_error: 1269.3216\n",
            "Epoch 13/30\n",
            "76651/76651 [==============================] - 23s 298us/step - loss: 12844.6079 - mean_squared_error: 12844.6079 - val_loss: 1432.5732 - val_mean_squared_error: 1432.5732\n",
            "Epoch 14/30\n",
            "76651/76651 [==============================] - 23s 298us/step - loss: 12437.8060 - mean_squared_error: 12437.8060 - val_loss: 1637.7819 - val_mean_squared_error: 1637.7819\n",
            "Epoch 15/30\n",
            "76651/76651 [==============================] - 23s 299us/step - loss: 12096.2354 - mean_squared_error: 12096.2354 - val_loss: 1639.5092 - val_mean_squared_error: 1639.5092\n",
            "Epoch 16/30\n",
            "76651/76651 [==============================] - 23s 299us/step - loss: 11728.2480 - mean_squared_error: 11728.2480 - val_loss: 1533.9637 - val_mean_squared_error: 1533.9637\n",
            "Epoch 17/30\n",
            "76651/76651 [==============================] - 23s 299us/step - loss: 11352.4468 - mean_squared_error: 11352.4468 - val_loss: 1709.5167 - val_mean_squared_error: 1709.5167\n",
            "Epoch 18/30\n",
            "76651/76651 [==============================] - 23s 298us/step - loss: 11049.6124 - mean_squared_error: 11049.6124 - val_loss: 1769.3952 - val_mean_squared_error: 1769.3952\n",
            "Epoch 19/30\n",
            "76651/76651 [==============================] - 23s 299us/step - loss: 10723.8375 - mean_squared_error: 10723.8375 - val_loss: 1798.0035 - val_mean_squared_error: 1798.0035\n",
            "Epoch 20/30\n",
            "76651/76651 [==============================] - 23s 298us/step - loss: 10541.2209 - mean_squared_error: 10541.2209 - val_loss: 1781.5546 - val_mean_squared_error: 1781.5546\n",
            "Epoch 21/30\n",
            "76651/76651 [==============================] - 23s 299us/step - loss: 10343.1394 - mean_squared_error: 10343.1394 - val_loss: 2018.2127 - val_mean_squared_error: 2018.2127\n",
            "Epoch 22/30\n",
            "76651/76651 [==============================] - 23s 301us/step - loss: 10088.0961 - mean_squared_error: 10088.0961 - val_loss: 2014.6191 - val_mean_squared_error: 2014.6191\n",
            "Epoch 23/30\n",
            "76651/76651 [==============================] - 23s 299us/step - loss: 9886.9347 - mean_squared_error: 9886.9347 - val_loss: 1801.9004 - val_mean_squared_error: 1801.9004\n",
            "Epoch 24/30\n",
            "76651/76651 [==============================] - 23s 298us/step - loss: 9664.5244 - mean_squared_error: 9664.5244 - val_loss: 1882.1789 - val_mean_squared_error: 1882.1789\n",
            "Epoch 25/30\n",
            "76651/76651 [==============================] - 23s 298us/step - loss: 9487.0721 - mean_squared_error: 9487.0721 - val_loss: 1617.2429 - val_mean_squared_error: 1617.2429\n",
            "Epoch 26/30\n",
            "76651/76651 [==============================] - 23s 298us/step - loss: 9394.2134 - mean_squared_error: 9394.2134 - val_loss: 1820.4514 - val_mean_squared_error: 1820.4514\n",
            "Epoch 27/30\n",
            "76651/76651 [==============================] - 23s 299us/step - loss: 9222.0181 - mean_squared_error: 9222.0181 - val_loss: 1711.1625 - val_mean_squared_error: 1711.1625\n",
            "Epoch 28/30\n",
            "76651/76651 [==============================] - 23s 299us/step - loss: 9156.6364 - mean_squared_error: 9156.6364 - val_loss: 2130.2988 - val_mean_squared_error: 2130.2988\n",
            "Epoch 29/30\n",
            "76651/76651 [==============================] - 23s 298us/step - loss: 9026.4613 - mean_squared_error: 9026.4613 - val_loss: 1847.8998 - val_mean_squared_error: 1847.8998\n",
            "Epoch 30/30\n",
            "76651/76651 [==============================] - 23s 298us/step - loss: 8823.6469 - mean_squared_error: 8823.6469 - val_loss: 2106.7777 - val_mean_squared_error: 2106.7777\n"
          ],
          "name": "stdout"
        }
      ]
    },
    {
      "metadata": {
        "id": "-Uxop03jAsLv",
        "colab_type": "text"
      },
      "cell_type": "markdown",
      "source": [
        "## RNN"
      ]
    },
    {
      "metadata": {
        "id": "ljkFDVeoArda",
        "colab_type": "code",
        "colab": {
          "base_uri": "https://localhost:8080/",
          "height": 1459
        },
        "outputId": "e8c40b62-7dd4-463b-ead5-5860a05f5e0a"
      },
      "cell_type": "code",
      "source": [
        "from keras import layers\n",
        "\n",
        "model = Sequential()\n",
        "model.add(Embedding(max_words, 32))\n",
        "model.add(SimpleRNN(32))\n",
        "model.add(Dense(1, activation='sigmoid'))\n",
        "\n",
        "model.compile(optimizer='rmsprop', loss='binary_crossentropy', metrics=['mse', rmse])\n",
        "history = model.fit(data_train, y_train,\n",
        "                    epochs=10,\n",
        "                    batch_size=128,\n",
        "                    validation_data=(data_test, y_test))"
      ],
      "execution_count": 44,
      "outputs": [
        {
          "output_type": "stream",
          "text": [
            "Train on 76651 samples, validate on 71772 samples\n",
            "Epoch 1/10\n",
            "65280/76651 [========================>.....] - ETA: 48s - loss: -305.2624 - mean_squared_error: 13904.1293 - rmse: 25.2237"
          ],
          "name": "stdout"
        },
        {
          "output_type": "error",
          "ename": "KeyboardInterrupt",
          "evalue": "ignored",
          "traceback": [
            "\u001b[0;31m---------------------------------------------------------------------------\u001b[0m",
            "\u001b[0;31mKeyboardInterrupt\u001b[0m                         Traceback (most recent call last)",
            "\u001b[0;32m<ipython-input-44-667140af99cc>\u001b[0m in \u001b[0;36m<module>\u001b[0;34m()\u001b[0m\n\u001b[1;32m     10\u001b[0m                     \u001b[0mepochs\u001b[0m\u001b[0;34m=\u001b[0m\u001b[0;36m10\u001b[0m\u001b[0;34m,\u001b[0m\u001b[0;34m\u001b[0m\u001b[0m\n\u001b[1;32m     11\u001b[0m                     \u001b[0mbatch_size\u001b[0m\u001b[0;34m=\u001b[0m\u001b[0;36m128\u001b[0m\u001b[0;34m,\u001b[0m\u001b[0;34m\u001b[0m\u001b[0m\n\u001b[0;32m---> 12\u001b[0;31m                     validation_data=(data_test, y_test))\n\u001b[0m",
            "\u001b[0;32m/usr/local/lib/python3.6/dist-packages/keras/models.py\u001b[0m in \u001b[0;36mfit\u001b[0;34m(self, x, y, batch_size, epochs, verbose, callbacks, validation_split, validation_data, shuffle, class_weight, sample_weight, initial_epoch, steps_per_epoch, validation_steps, **kwargs)\u001b[0m\n\u001b[1;32m   1000\u001b[0m                               \u001b[0minitial_epoch\u001b[0m\u001b[0;34m=\u001b[0m\u001b[0minitial_epoch\u001b[0m\u001b[0;34m,\u001b[0m\u001b[0;34m\u001b[0m\u001b[0m\n\u001b[1;32m   1001\u001b[0m                               \u001b[0msteps_per_epoch\u001b[0m\u001b[0;34m=\u001b[0m\u001b[0msteps_per_epoch\u001b[0m\u001b[0;34m,\u001b[0m\u001b[0;34m\u001b[0m\u001b[0m\n\u001b[0;32m-> 1002\u001b[0;31m                               validation_steps=validation_steps)\n\u001b[0m\u001b[1;32m   1003\u001b[0m \u001b[0;34m\u001b[0m\u001b[0m\n\u001b[1;32m   1004\u001b[0m     def evaluate(self, x=None, y=None,\n",
            "\u001b[0;32m/usr/local/lib/python3.6/dist-packages/keras/engine/training.py\u001b[0m in \u001b[0;36mfit\u001b[0;34m(self, x, y, batch_size, epochs, verbose, callbacks, validation_split, validation_data, shuffle, class_weight, sample_weight, initial_epoch, steps_per_epoch, validation_steps, **kwargs)\u001b[0m\n\u001b[1;32m   1703\u001b[0m                               \u001b[0minitial_epoch\u001b[0m\u001b[0;34m=\u001b[0m\u001b[0minitial_epoch\u001b[0m\u001b[0;34m,\u001b[0m\u001b[0;34m\u001b[0m\u001b[0m\n\u001b[1;32m   1704\u001b[0m                               \u001b[0msteps_per_epoch\u001b[0m\u001b[0;34m=\u001b[0m\u001b[0msteps_per_epoch\u001b[0m\u001b[0;34m,\u001b[0m\u001b[0;34m\u001b[0m\u001b[0m\n\u001b[0;32m-> 1705\u001b[0;31m                               validation_steps=validation_steps)\n\u001b[0m\u001b[1;32m   1706\u001b[0m \u001b[0;34m\u001b[0m\u001b[0m\n\u001b[1;32m   1707\u001b[0m     def evaluate(self, x=None, y=None,\n",
            "\u001b[0;32m/usr/local/lib/python3.6/dist-packages/keras/engine/training.py\u001b[0m in \u001b[0;36m_fit_loop\u001b[0;34m(self, f, ins, out_labels, batch_size, epochs, verbose, callbacks, val_f, val_ins, shuffle, callback_metrics, initial_epoch, steps_per_epoch, validation_steps)\u001b[0m\n\u001b[1;32m   1234\u001b[0m                         \u001b[0mins_batch\u001b[0m\u001b[0;34m[\u001b[0m\u001b[0mi\u001b[0m\u001b[0;34m]\u001b[0m \u001b[0;34m=\u001b[0m \u001b[0mins_batch\u001b[0m\u001b[0;34m[\u001b[0m\u001b[0mi\u001b[0m\u001b[0;34m]\u001b[0m\u001b[0;34m.\u001b[0m\u001b[0mtoarray\u001b[0m\u001b[0;34m(\u001b[0m\u001b[0;34m)\u001b[0m\u001b[0;34m\u001b[0m\u001b[0m\n\u001b[1;32m   1235\u001b[0m \u001b[0;34m\u001b[0m\u001b[0m\n\u001b[0;32m-> 1236\u001b[0;31m                     \u001b[0mouts\u001b[0m \u001b[0;34m=\u001b[0m \u001b[0mf\u001b[0m\u001b[0;34m(\u001b[0m\u001b[0mins_batch\u001b[0m\u001b[0;34m)\u001b[0m\u001b[0;34m\u001b[0m\u001b[0m\n\u001b[0m\u001b[1;32m   1237\u001b[0m                     \u001b[0;32mif\u001b[0m \u001b[0;32mnot\u001b[0m \u001b[0misinstance\u001b[0m\u001b[0;34m(\u001b[0m\u001b[0mouts\u001b[0m\u001b[0;34m,\u001b[0m \u001b[0mlist\u001b[0m\u001b[0;34m)\u001b[0m\u001b[0;34m:\u001b[0m\u001b[0;34m\u001b[0m\u001b[0m\n\u001b[1;32m   1238\u001b[0m                         \u001b[0mouts\u001b[0m \u001b[0;34m=\u001b[0m \u001b[0;34m[\u001b[0m\u001b[0mouts\u001b[0m\u001b[0;34m]\u001b[0m\u001b[0;34m\u001b[0m\u001b[0m\n",
            "\u001b[0;32m/usr/local/lib/python3.6/dist-packages/keras/backend/tensorflow_backend.py\u001b[0m in \u001b[0;36m__call__\u001b[0;34m(self, inputs)\u001b[0m\n\u001b[1;32m   2480\u001b[0m         \u001b[0msession\u001b[0m \u001b[0;34m=\u001b[0m \u001b[0mget_session\u001b[0m\u001b[0;34m(\u001b[0m\u001b[0;34m)\u001b[0m\u001b[0;34m\u001b[0m\u001b[0m\n\u001b[1;32m   2481\u001b[0m         updated = session.run(fetches=fetches, feed_dict=feed_dict,\n\u001b[0;32m-> 2482\u001b[0;31m                               **self.session_kwargs)\n\u001b[0m\u001b[1;32m   2483\u001b[0m         \u001b[0;32mreturn\u001b[0m \u001b[0mupdated\u001b[0m\u001b[0;34m[\u001b[0m\u001b[0;34m:\u001b[0m\u001b[0mlen\u001b[0m\u001b[0;34m(\u001b[0m\u001b[0mself\u001b[0m\u001b[0;34m.\u001b[0m\u001b[0moutputs\u001b[0m\u001b[0;34m)\u001b[0m\u001b[0;34m]\u001b[0m\u001b[0;34m\u001b[0m\u001b[0m\n\u001b[1;32m   2484\u001b[0m \u001b[0;34m\u001b[0m\u001b[0m\n",
            "\u001b[0;32m/usr/local/lib/python3.6/dist-packages/tensorflow/python/client/session.py\u001b[0m in \u001b[0;36mrun\u001b[0;34m(self, fetches, feed_dict, options, run_metadata)\u001b[0m\n\u001b[1;32m    927\u001b[0m     \u001b[0;32mtry\u001b[0m\u001b[0;34m:\u001b[0m\u001b[0;34m\u001b[0m\u001b[0m\n\u001b[1;32m    928\u001b[0m       result = self._run(None, fetches, feed_dict, options_ptr,\n\u001b[0;32m--> 929\u001b[0;31m                          run_metadata_ptr)\n\u001b[0m\u001b[1;32m    930\u001b[0m       \u001b[0;32mif\u001b[0m \u001b[0mrun_metadata\u001b[0m\u001b[0;34m:\u001b[0m\u001b[0;34m\u001b[0m\u001b[0m\n\u001b[1;32m    931\u001b[0m         \u001b[0mproto_data\u001b[0m \u001b[0;34m=\u001b[0m \u001b[0mtf_session\u001b[0m\u001b[0;34m.\u001b[0m\u001b[0mTF_GetBuffer\u001b[0m\u001b[0;34m(\u001b[0m\u001b[0mrun_metadata_ptr\u001b[0m\u001b[0;34m)\u001b[0m\u001b[0;34m\u001b[0m\u001b[0m\n",
            "\u001b[0;32m/usr/local/lib/python3.6/dist-packages/tensorflow/python/client/session.py\u001b[0m in \u001b[0;36m_run\u001b[0;34m(self, handle, fetches, feed_dict, options, run_metadata)\u001b[0m\n\u001b[1;32m   1150\u001b[0m     \u001b[0;32mif\u001b[0m \u001b[0mfinal_fetches\u001b[0m \u001b[0;32mor\u001b[0m \u001b[0mfinal_targets\u001b[0m \u001b[0;32mor\u001b[0m \u001b[0;34m(\u001b[0m\u001b[0mhandle\u001b[0m \u001b[0;32mand\u001b[0m \u001b[0mfeed_dict_tensor\u001b[0m\u001b[0;34m)\u001b[0m\u001b[0;34m:\u001b[0m\u001b[0;34m\u001b[0m\u001b[0m\n\u001b[1;32m   1151\u001b[0m       results = self._do_run(handle, final_targets, final_fetches,\n\u001b[0;32m-> 1152\u001b[0;31m                              feed_dict_tensor, options, run_metadata)\n\u001b[0m\u001b[1;32m   1153\u001b[0m     \u001b[0;32melse\u001b[0m\u001b[0;34m:\u001b[0m\u001b[0;34m\u001b[0m\u001b[0m\n\u001b[1;32m   1154\u001b[0m       \u001b[0mresults\u001b[0m \u001b[0;34m=\u001b[0m \u001b[0;34m[\u001b[0m\u001b[0;34m]\u001b[0m\u001b[0;34m\u001b[0m\u001b[0m\n",
            "\u001b[0;32m/usr/local/lib/python3.6/dist-packages/tensorflow/python/client/session.py\u001b[0m in \u001b[0;36m_do_run\u001b[0;34m(self, handle, target_list, fetch_list, feed_dict, options, run_metadata)\u001b[0m\n\u001b[1;32m   1326\u001b[0m     \u001b[0;32mif\u001b[0m \u001b[0mhandle\u001b[0m \u001b[0;32mis\u001b[0m \u001b[0;32mNone\u001b[0m\u001b[0;34m:\u001b[0m\u001b[0;34m\u001b[0m\u001b[0m\n\u001b[1;32m   1327\u001b[0m       return self._do_call(_run_fn, feeds, fetches, targets, options,\n\u001b[0;32m-> 1328\u001b[0;31m                            run_metadata)\n\u001b[0m\u001b[1;32m   1329\u001b[0m     \u001b[0;32melse\u001b[0m\u001b[0;34m:\u001b[0m\u001b[0;34m\u001b[0m\u001b[0m\n\u001b[1;32m   1330\u001b[0m       \u001b[0;32mreturn\u001b[0m \u001b[0mself\u001b[0m\u001b[0;34m.\u001b[0m\u001b[0m_do_call\u001b[0m\u001b[0;34m(\u001b[0m\u001b[0m_prun_fn\u001b[0m\u001b[0;34m,\u001b[0m \u001b[0mhandle\u001b[0m\u001b[0;34m,\u001b[0m \u001b[0mfeeds\u001b[0m\u001b[0;34m,\u001b[0m \u001b[0mfetches\u001b[0m\u001b[0;34m)\u001b[0m\u001b[0;34m\u001b[0m\u001b[0m\n",
            "\u001b[0;32m/usr/local/lib/python3.6/dist-packages/tensorflow/python/client/session.py\u001b[0m in \u001b[0;36m_do_call\u001b[0;34m(self, fn, *args)\u001b[0m\n\u001b[1;32m   1332\u001b[0m   \u001b[0;32mdef\u001b[0m \u001b[0m_do_call\u001b[0m\u001b[0;34m(\u001b[0m\u001b[0mself\u001b[0m\u001b[0;34m,\u001b[0m \u001b[0mfn\u001b[0m\u001b[0;34m,\u001b[0m \u001b[0;34m*\u001b[0m\u001b[0margs\u001b[0m\u001b[0;34m)\u001b[0m\u001b[0;34m:\u001b[0m\u001b[0;34m\u001b[0m\u001b[0m\n\u001b[1;32m   1333\u001b[0m     \u001b[0;32mtry\u001b[0m\u001b[0;34m:\u001b[0m\u001b[0;34m\u001b[0m\u001b[0m\n\u001b[0;32m-> 1334\u001b[0;31m       \u001b[0;32mreturn\u001b[0m \u001b[0mfn\u001b[0m\u001b[0;34m(\u001b[0m\u001b[0;34m*\u001b[0m\u001b[0margs\u001b[0m\u001b[0;34m)\u001b[0m\u001b[0;34m\u001b[0m\u001b[0m\n\u001b[0m\u001b[1;32m   1335\u001b[0m     \u001b[0;32mexcept\u001b[0m \u001b[0merrors\u001b[0m\u001b[0;34m.\u001b[0m\u001b[0mOpError\u001b[0m \u001b[0;32mas\u001b[0m \u001b[0me\u001b[0m\u001b[0;34m:\u001b[0m\u001b[0;34m\u001b[0m\u001b[0m\n\u001b[1;32m   1336\u001b[0m       \u001b[0mmessage\u001b[0m \u001b[0;34m=\u001b[0m \u001b[0mcompat\u001b[0m\u001b[0;34m.\u001b[0m\u001b[0mas_text\u001b[0m\u001b[0;34m(\u001b[0m\u001b[0me\u001b[0m\u001b[0;34m.\u001b[0m\u001b[0mmessage\u001b[0m\u001b[0;34m)\u001b[0m\u001b[0;34m\u001b[0m\u001b[0m\n",
            "\u001b[0;32m/usr/local/lib/python3.6/dist-packages/tensorflow/python/client/session.py\u001b[0m in \u001b[0;36m_run_fn\u001b[0;34m(feed_dict, fetch_list, target_list, options, run_metadata)\u001b[0m\n\u001b[1;32m   1317\u001b[0m       \u001b[0mself\u001b[0m\u001b[0;34m.\u001b[0m\u001b[0m_extend_graph\u001b[0m\u001b[0;34m(\u001b[0m\u001b[0;34m)\u001b[0m\u001b[0;34m\u001b[0m\u001b[0m\n\u001b[1;32m   1318\u001b[0m       return self._call_tf_sessionrun(\n\u001b[0;32m-> 1319\u001b[0;31m           options, feed_dict, fetch_list, target_list, run_metadata)\n\u001b[0m\u001b[1;32m   1320\u001b[0m \u001b[0;34m\u001b[0m\u001b[0m\n\u001b[1;32m   1321\u001b[0m     \u001b[0;32mdef\u001b[0m \u001b[0m_prun_fn\u001b[0m\u001b[0;34m(\u001b[0m\u001b[0mhandle\u001b[0m\u001b[0;34m,\u001b[0m \u001b[0mfeed_dict\u001b[0m\u001b[0;34m,\u001b[0m \u001b[0mfetch_list\u001b[0m\u001b[0;34m)\u001b[0m\u001b[0;34m:\u001b[0m\u001b[0;34m\u001b[0m\u001b[0m\n",
            "\u001b[0;32m/usr/local/lib/python3.6/dist-packages/tensorflow/python/client/session.py\u001b[0m in \u001b[0;36m_call_tf_sessionrun\u001b[0;34m(self, options, feed_dict, fetch_list, target_list, run_metadata)\u001b[0m\n\u001b[1;32m   1405\u001b[0m     return tf_session.TF_SessionRun_wrapper(\n\u001b[1;32m   1406\u001b[0m         \u001b[0mself\u001b[0m\u001b[0;34m.\u001b[0m\u001b[0m_session\u001b[0m\u001b[0;34m,\u001b[0m \u001b[0moptions\u001b[0m\u001b[0;34m,\u001b[0m \u001b[0mfeed_dict\u001b[0m\u001b[0;34m,\u001b[0m \u001b[0mfetch_list\u001b[0m\u001b[0;34m,\u001b[0m \u001b[0mtarget_list\u001b[0m\u001b[0;34m,\u001b[0m\u001b[0;34m\u001b[0m\u001b[0m\n\u001b[0;32m-> 1407\u001b[0;31m         run_metadata)\n\u001b[0m\u001b[1;32m   1408\u001b[0m \u001b[0;34m\u001b[0m\u001b[0m\n\u001b[1;32m   1409\u001b[0m   \u001b[0;32mdef\u001b[0m \u001b[0m_call_tf_sessionprun\u001b[0m\u001b[0;34m(\u001b[0m\u001b[0mself\u001b[0m\u001b[0;34m,\u001b[0m \u001b[0mhandle\u001b[0m\u001b[0;34m,\u001b[0m \u001b[0mfeed_dict\u001b[0m\u001b[0;34m,\u001b[0m \u001b[0mfetch_list\u001b[0m\u001b[0;34m)\u001b[0m\u001b[0;34m:\u001b[0m\u001b[0;34m\u001b[0m\u001b[0m\n",
            "\u001b[0;31mKeyboardInterrupt\u001b[0m: "
          ]
        }
      ]
    },
    {
      "metadata": {
        "id": "VhKUjWYdUJGP",
        "colab_type": "code",
        "colab": {}
      },
      "cell_type": "code",
      "source": [
        "from keras import backend\n",
        "def rmse(y_true, y_pred):\n",
        "\treturn backend.sqrt(backend.mean(backend.square(y_pred - y_true), axis=-1))"
      ],
      "execution_count": 0,
      "outputs": []
    },
    {
      "metadata": {
        "id": "KU_n4xILShn-",
        "colab_type": "text"
      },
      "cell_type": "markdown",
      "source": [
        "## LSTM"
      ]
    },
    {
      "metadata": {
        "id": "rZ3DpLfpShL0",
        "colab_type": "code",
        "colab": {
          "base_uri": "https://localhost:8080/",
          "height": 1578
        },
        "outputId": "72e3a5d8-8da8-4fb3-8cbc-2a8f9c241d18"
      },
      "cell_type": "code",
      "source": [
        "model = Sequential()\n",
        "model.add(Embedding(max_words, 32))\n",
        "model.add(LSTM(32))\n",
        "model.add(Dense(1, activation='sigmoid'))\n",
        "\n",
        "model.compile(optimizer='rmsprop',\n",
        "              loss='binary_crossentropy',\n",
        "              metrics=['mse', rmse])\n",
        "history = model.fit(data_train, y_train,\n",
        "                    epochs=10,\n",
        "                    batch_size=128,\n",
        "                    validation_data=(data_test, y_test))\n",
        "#validation_split=0.2"
      ],
      "execution_count": 40,
      "outputs": [
        {
          "output_type": "stream",
          "text": [
            "Train on 76651 samples, validate on 71772 samples\n",
            "Epoch 1/10\n",
            "76651/76651 [==============================] - 1574s 21ms/step - loss: -342.6725 - mean_squared_error: 15665.5694 - rmse: 25.2900 - val_loss: -238.3488 - val_mean_squared_error: 1354.1407 - val_rmse: 14.9506\n",
            "Epoch 2/10\n",
            "76651/76651 [==============================] - 1580s 21ms/step - loss: -403.0471 - mean_squared_error: 15665.1981 - rmse: 25.2815 - val_loss: -238.3488 - val_mean_squared_error: 1354.1407 - val_rmse: 14.9506\n",
            "Epoch 3/10\n",
            "76651/76651 [==============================] - 1597s 21ms/step - loss: -403.0471 - mean_squared_error: 15665.1979 - rmse: 25.2815 - val_loss: -238.3488 - val_mean_squared_error: 1354.1407 - val_rmse: 14.9506\n",
            "Epoch 4/10\n",
            "54784/76651 [====================>.........] - ETA: 6:16 - loss: -406.2701 - mean_squared_error: 18011.9057 - rmse: 25.4836"
          ],
          "name": "stdout"
        },
        {
          "output_type": "error",
          "ename": "KeyboardInterrupt",
          "evalue": "ignored",
          "traceback": [
            "\u001b[0;31m---------------------------------------------------------------------------\u001b[0m",
            "\u001b[0;31mKeyboardInterrupt\u001b[0m                         Traceback (most recent call last)",
            "\u001b[0;32m<ipython-input-40-0f16368a5c2d>\u001b[0m in \u001b[0;36m<module>\u001b[0;34m()\u001b[0m\n\u001b[1;32m     10\u001b[0m                     \u001b[0mepochs\u001b[0m\u001b[0;34m=\u001b[0m\u001b[0;36m10\u001b[0m\u001b[0;34m,\u001b[0m\u001b[0;34m\u001b[0m\u001b[0m\n\u001b[1;32m     11\u001b[0m                     \u001b[0mbatch_size\u001b[0m\u001b[0;34m=\u001b[0m\u001b[0;36m128\u001b[0m\u001b[0;34m,\u001b[0m\u001b[0;34m\u001b[0m\u001b[0m\n\u001b[0;32m---> 12\u001b[0;31m                     validation_data=(data_test, y_test))\n\u001b[0m\u001b[1;32m     13\u001b[0m \u001b[0;31m#validation_split=0.2\u001b[0m\u001b[0;34m\u001b[0m\u001b[0;34m\u001b[0m\u001b[0m\n",
            "\u001b[0;32m/usr/local/lib/python3.6/dist-packages/keras/models.py\u001b[0m in \u001b[0;36mfit\u001b[0;34m(self, x, y, batch_size, epochs, verbose, callbacks, validation_split, validation_data, shuffle, class_weight, sample_weight, initial_epoch, steps_per_epoch, validation_steps, **kwargs)\u001b[0m\n\u001b[1;32m   1000\u001b[0m                               \u001b[0minitial_epoch\u001b[0m\u001b[0;34m=\u001b[0m\u001b[0minitial_epoch\u001b[0m\u001b[0;34m,\u001b[0m\u001b[0;34m\u001b[0m\u001b[0m\n\u001b[1;32m   1001\u001b[0m                               \u001b[0msteps_per_epoch\u001b[0m\u001b[0;34m=\u001b[0m\u001b[0msteps_per_epoch\u001b[0m\u001b[0;34m,\u001b[0m\u001b[0;34m\u001b[0m\u001b[0m\n\u001b[0;32m-> 1002\u001b[0;31m                               validation_steps=validation_steps)\n\u001b[0m\u001b[1;32m   1003\u001b[0m \u001b[0;34m\u001b[0m\u001b[0m\n\u001b[1;32m   1004\u001b[0m     def evaluate(self, x=None, y=None,\n",
            "\u001b[0;32m/usr/local/lib/python3.6/dist-packages/keras/engine/training.py\u001b[0m in \u001b[0;36mfit\u001b[0;34m(self, x, y, batch_size, epochs, verbose, callbacks, validation_split, validation_data, shuffle, class_weight, sample_weight, initial_epoch, steps_per_epoch, validation_steps, **kwargs)\u001b[0m\n\u001b[1;32m   1703\u001b[0m                               \u001b[0minitial_epoch\u001b[0m\u001b[0;34m=\u001b[0m\u001b[0minitial_epoch\u001b[0m\u001b[0;34m,\u001b[0m\u001b[0;34m\u001b[0m\u001b[0m\n\u001b[1;32m   1704\u001b[0m                               \u001b[0msteps_per_epoch\u001b[0m\u001b[0;34m=\u001b[0m\u001b[0msteps_per_epoch\u001b[0m\u001b[0;34m,\u001b[0m\u001b[0;34m\u001b[0m\u001b[0m\n\u001b[0;32m-> 1705\u001b[0;31m                               validation_steps=validation_steps)\n\u001b[0m\u001b[1;32m   1706\u001b[0m \u001b[0;34m\u001b[0m\u001b[0m\n\u001b[1;32m   1707\u001b[0m     def evaluate(self, x=None, y=None,\n",
            "\u001b[0;32m/usr/local/lib/python3.6/dist-packages/keras/engine/training.py\u001b[0m in \u001b[0;36m_fit_loop\u001b[0;34m(self, f, ins, out_labels, batch_size, epochs, verbose, callbacks, val_f, val_ins, shuffle, callback_metrics, initial_epoch, steps_per_epoch, validation_steps)\u001b[0m\n\u001b[1;32m   1234\u001b[0m                         \u001b[0mins_batch\u001b[0m\u001b[0;34m[\u001b[0m\u001b[0mi\u001b[0m\u001b[0;34m]\u001b[0m \u001b[0;34m=\u001b[0m \u001b[0mins_batch\u001b[0m\u001b[0;34m[\u001b[0m\u001b[0mi\u001b[0m\u001b[0;34m]\u001b[0m\u001b[0;34m.\u001b[0m\u001b[0mtoarray\u001b[0m\u001b[0;34m(\u001b[0m\u001b[0;34m)\u001b[0m\u001b[0;34m\u001b[0m\u001b[0m\n\u001b[1;32m   1235\u001b[0m \u001b[0;34m\u001b[0m\u001b[0m\n\u001b[0;32m-> 1236\u001b[0;31m                     \u001b[0mouts\u001b[0m \u001b[0;34m=\u001b[0m \u001b[0mf\u001b[0m\u001b[0;34m(\u001b[0m\u001b[0mins_batch\u001b[0m\u001b[0;34m)\u001b[0m\u001b[0;34m\u001b[0m\u001b[0m\n\u001b[0m\u001b[1;32m   1237\u001b[0m                     \u001b[0;32mif\u001b[0m \u001b[0;32mnot\u001b[0m \u001b[0misinstance\u001b[0m\u001b[0;34m(\u001b[0m\u001b[0mouts\u001b[0m\u001b[0;34m,\u001b[0m \u001b[0mlist\u001b[0m\u001b[0;34m)\u001b[0m\u001b[0;34m:\u001b[0m\u001b[0;34m\u001b[0m\u001b[0m\n\u001b[1;32m   1238\u001b[0m                         \u001b[0mouts\u001b[0m \u001b[0;34m=\u001b[0m \u001b[0;34m[\u001b[0m\u001b[0mouts\u001b[0m\u001b[0;34m]\u001b[0m\u001b[0;34m\u001b[0m\u001b[0m\n",
            "\u001b[0;32m/usr/local/lib/python3.6/dist-packages/keras/backend/tensorflow_backend.py\u001b[0m in \u001b[0;36m__call__\u001b[0;34m(self, inputs)\u001b[0m\n\u001b[1;32m   2480\u001b[0m         \u001b[0msession\u001b[0m \u001b[0;34m=\u001b[0m \u001b[0mget_session\u001b[0m\u001b[0;34m(\u001b[0m\u001b[0;34m)\u001b[0m\u001b[0;34m\u001b[0m\u001b[0m\n\u001b[1;32m   2481\u001b[0m         updated = session.run(fetches=fetches, feed_dict=feed_dict,\n\u001b[0;32m-> 2482\u001b[0;31m                               **self.session_kwargs)\n\u001b[0m\u001b[1;32m   2483\u001b[0m         \u001b[0;32mreturn\u001b[0m \u001b[0mupdated\u001b[0m\u001b[0;34m[\u001b[0m\u001b[0;34m:\u001b[0m\u001b[0mlen\u001b[0m\u001b[0;34m(\u001b[0m\u001b[0mself\u001b[0m\u001b[0;34m.\u001b[0m\u001b[0moutputs\u001b[0m\u001b[0;34m)\u001b[0m\u001b[0;34m]\u001b[0m\u001b[0;34m\u001b[0m\u001b[0m\n\u001b[1;32m   2484\u001b[0m \u001b[0;34m\u001b[0m\u001b[0m\n",
            "\u001b[0;32m/usr/local/lib/python3.6/dist-packages/tensorflow/python/client/session.py\u001b[0m in \u001b[0;36mrun\u001b[0;34m(self, fetches, feed_dict, options, run_metadata)\u001b[0m\n\u001b[1;32m    927\u001b[0m     \u001b[0;32mtry\u001b[0m\u001b[0;34m:\u001b[0m\u001b[0;34m\u001b[0m\u001b[0m\n\u001b[1;32m    928\u001b[0m       result = self._run(None, fetches, feed_dict, options_ptr,\n\u001b[0;32m--> 929\u001b[0;31m                          run_metadata_ptr)\n\u001b[0m\u001b[1;32m    930\u001b[0m       \u001b[0;32mif\u001b[0m \u001b[0mrun_metadata\u001b[0m\u001b[0;34m:\u001b[0m\u001b[0;34m\u001b[0m\u001b[0m\n\u001b[1;32m    931\u001b[0m         \u001b[0mproto_data\u001b[0m \u001b[0;34m=\u001b[0m \u001b[0mtf_session\u001b[0m\u001b[0;34m.\u001b[0m\u001b[0mTF_GetBuffer\u001b[0m\u001b[0;34m(\u001b[0m\u001b[0mrun_metadata_ptr\u001b[0m\u001b[0;34m)\u001b[0m\u001b[0;34m\u001b[0m\u001b[0m\n",
            "\u001b[0;32m/usr/local/lib/python3.6/dist-packages/tensorflow/python/client/session.py\u001b[0m in \u001b[0;36m_run\u001b[0;34m(self, handle, fetches, feed_dict, options, run_metadata)\u001b[0m\n\u001b[1;32m   1150\u001b[0m     \u001b[0;32mif\u001b[0m \u001b[0mfinal_fetches\u001b[0m \u001b[0;32mor\u001b[0m \u001b[0mfinal_targets\u001b[0m \u001b[0;32mor\u001b[0m \u001b[0;34m(\u001b[0m\u001b[0mhandle\u001b[0m \u001b[0;32mand\u001b[0m \u001b[0mfeed_dict_tensor\u001b[0m\u001b[0;34m)\u001b[0m\u001b[0;34m:\u001b[0m\u001b[0;34m\u001b[0m\u001b[0m\n\u001b[1;32m   1151\u001b[0m       results = self._do_run(handle, final_targets, final_fetches,\n\u001b[0;32m-> 1152\u001b[0;31m                              feed_dict_tensor, options, run_metadata)\n\u001b[0m\u001b[1;32m   1153\u001b[0m     \u001b[0;32melse\u001b[0m\u001b[0;34m:\u001b[0m\u001b[0;34m\u001b[0m\u001b[0m\n\u001b[1;32m   1154\u001b[0m       \u001b[0mresults\u001b[0m \u001b[0;34m=\u001b[0m \u001b[0;34m[\u001b[0m\u001b[0;34m]\u001b[0m\u001b[0;34m\u001b[0m\u001b[0m\n",
            "\u001b[0;32m/usr/local/lib/python3.6/dist-packages/tensorflow/python/client/session.py\u001b[0m in \u001b[0;36m_do_run\u001b[0;34m(self, handle, target_list, fetch_list, feed_dict, options, run_metadata)\u001b[0m\n\u001b[1;32m   1326\u001b[0m     \u001b[0;32mif\u001b[0m \u001b[0mhandle\u001b[0m \u001b[0;32mis\u001b[0m \u001b[0;32mNone\u001b[0m\u001b[0;34m:\u001b[0m\u001b[0;34m\u001b[0m\u001b[0m\n\u001b[1;32m   1327\u001b[0m       return self._do_call(_run_fn, feeds, fetches, targets, options,\n\u001b[0;32m-> 1328\u001b[0;31m                            run_metadata)\n\u001b[0m\u001b[1;32m   1329\u001b[0m     \u001b[0;32melse\u001b[0m\u001b[0;34m:\u001b[0m\u001b[0;34m\u001b[0m\u001b[0m\n\u001b[1;32m   1330\u001b[0m       \u001b[0;32mreturn\u001b[0m \u001b[0mself\u001b[0m\u001b[0;34m.\u001b[0m\u001b[0m_do_call\u001b[0m\u001b[0;34m(\u001b[0m\u001b[0m_prun_fn\u001b[0m\u001b[0;34m,\u001b[0m \u001b[0mhandle\u001b[0m\u001b[0;34m,\u001b[0m \u001b[0mfeeds\u001b[0m\u001b[0;34m,\u001b[0m \u001b[0mfetches\u001b[0m\u001b[0;34m)\u001b[0m\u001b[0;34m\u001b[0m\u001b[0m\n",
            "\u001b[0;32m/usr/local/lib/python3.6/dist-packages/tensorflow/python/client/session.py\u001b[0m in \u001b[0;36m_do_call\u001b[0;34m(self, fn, *args)\u001b[0m\n\u001b[1;32m   1332\u001b[0m   \u001b[0;32mdef\u001b[0m \u001b[0m_do_call\u001b[0m\u001b[0;34m(\u001b[0m\u001b[0mself\u001b[0m\u001b[0;34m,\u001b[0m \u001b[0mfn\u001b[0m\u001b[0;34m,\u001b[0m \u001b[0;34m*\u001b[0m\u001b[0margs\u001b[0m\u001b[0;34m)\u001b[0m\u001b[0;34m:\u001b[0m\u001b[0;34m\u001b[0m\u001b[0m\n\u001b[1;32m   1333\u001b[0m     \u001b[0;32mtry\u001b[0m\u001b[0;34m:\u001b[0m\u001b[0;34m\u001b[0m\u001b[0m\n\u001b[0;32m-> 1334\u001b[0;31m       \u001b[0;32mreturn\u001b[0m \u001b[0mfn\u001b[0m\u001b[0;34m(\u001b[0m\u001b[0;34m*\u001b[0m\u001b[0margs\u001b[0m\u001b[0;34m)\u001b[0m\u001b[0;34m\u001b[0m\u001b[0m\n\u001b[0m\u001b[1;32m   1335\u001b[0m     \u001b[0;32mexcept\u001b[0m \u001b[0merrors\u001b[0m\u001b[0;34m.\u001b[0m\u001b[0mOpError\u001b[0m \u001b[0;32mas\u001b[0m \u001b[0me\u001b[0m\u001b[0;34m:\u001b[0m\u001b[0;34m\u001b[0m\u001b[0m\n\u001b[1;32m   1336\u001b[0m       \u001b[0mmessage\u001b[0m \u001b[0;34m=\u001b[0m \u001b[0mcompat\u001b[0m\u001b[0;34m.\u001b[0m\u001b[0mas_text\u001b[0m\u001b[0;34m(\u001b[0m\u001b[0me\u001b[0m\u001b[0;34m.\u001b[0m\u001b[0mmessage\u001b[0m\u001b[0;34m)\u001b[0m\u001b[0;34m\u001b[0m\u001b[0m\n",
            "\u001b[0;32m/usr/local/lib/python3.6/dist-packages/tensorflow/python/client/session.py\u001b[0m in \u001b[0;36m_run_fn\u001b[0;34m(feed_dict, fetch_list, target_list, options, run_metadata)\u001b[0m\n\u001b[1;32m   1317\u001b[0m       \u001b[0mself\u001b[0m\u001b[0;34m.\u001b[0m\u001b[0m_extend_graph\u001b[0m\u001b[0;34m(\u001b[0m\u001b[0;34m)\u001b[0m\u001b[0;34m\u001b[0m\u001b[0m\n\u001b[1;32m   1318\u001b[0m       return self._call_tf_sessionrun(\n\u001b[0;32m-> 1319\u001b[0;31m           options, feed_dict, fetch_list, target_list, run_metadata)\n\u001b[0m\u001b[1;32m   1320\u001b[0m \u001b[0;34m\u001b[0m\u001b[0m\n\u001b[1;32m   1321\u001b[0m     \u001b[0;32mdef\u001b[0m \u001b[0m_prun_fn\u001b[0m\u001b[0;34m(\u001b[0m\u001b[0mhandle\u001b[0m\u001b[0;34m,\u001b[0m \u001b[0mfeed_dict\u001b[0m\u001b[0;34m,\u001b[0m \u001b[0mfetch_list\u001b[0m\u001b[0;34m)\u001b[0m\u001b[0;34m:\u001b[0m\u001b[0;34m\u001b[0m\u001b[0m\n",
            "\u001b[0;32m/usr/local/lib/python3.6/dist-packages/tensorflow/python/client/session.py\u001b[0m in \u001b[0;36m_call_tf_sessionrun\u001b[0;34m(self, options, feed_dict, fetch_list, target_list, run_metadata)\u001b[0m\n\u001b[1;32m   1405\u001b[0m     return tf_session.TF_SessionRun_wrapper(\n\u001b[1;32m   1406\u001b[0m         \u001b[0mself\u001b[0m\u001b[0;34m.\u001b[0m\u001b[0m_session\u001b[0m\u001b[0;34m,\u001b[0m \u001b[0moptions\u001b[0m\u001b[0;34m,\u001b[0m \u001b[0mfeed_dict\u001b[0m\u001b[0;34m,\u001b[0m \u001b[0mfetch_list\u001b[0m\u001b[0;34m,\u001b[0m \u001b[0mtarget_list\u001b[0m\u001b[0;34m,\u001b[0m\u001b[0;34m\u001b[0m\u001b[0m\n\u001b[0;32m-> 1407\u001b[0;31m         run_metadata)\n\u001b[0m\u001b[1;32m   1408\u001b[0m \u001b[0;34m\u001b[0m\u001b[0m\n\u001b[1;32m   1409\u001b[0m   \u001b[0;32mdef\u001b[0m \u001b[0m_call_tf_sessionprun\u001b[0m\u001b[0;34m(\u001b[0m\u001b[0mself\u001b[0m\u001b[0;34m,\u001b[0m \u001b[0mhandle\u001b[0m\u001b[0;34m,\u001b[0m \u001b[0mfeed_dict\u001b[0m\u001b[0;34m,\u001b[0m \u001b[0mfetch_list\u001b[0m\u001b[0;34m)\u001b[0m\u001b[0;34m:\u001b[0m\u001b[0;34m\u001b[0m\u001b[0m\n",
            "\u001b[0;31mKeyboardInterrupt\u001b[0m: "
          ]
        }
      ]
    },
    {
      "metadata": {
        "id": "VXceDCTVqDzz",
        "colab_type": "text"
      },
      "cell_type": "markdown",
      "source": [
        "## GRU"
      ]
    },
    {
      "metadata": {
        "id": "F6c9Df6MqDU1",
        "colab_type": "code",
        "colab": {
          "base_uri": "https://localhost:8080/",
          "height": 394
        },
        "outputId": "9cef8c6c-41db-44bf-8342-fc5f0b8eea48"
      },
      "cell_type": "code",
      "source": [
        "model = Sequential()\n",
        "model.add(layers.Embedding(max_words, 128, input_length=1000))\n",
        "model.add(layers.Conv1D(32, 5, activation='relu'))\n",
        "model.add(layers.MaxPooling1D(3))\n",
        "model.add(layers.Conv1D(32, 5, activation='relu'))\n",
        "model.add(layers.GRU(32, dropout=0.1, recurrent_dropout=0.5))\n",
        "model.add(layers.Dense(1))\n",
        "\n",
        "#model.summary()\n",
        "\n",
        "model.compile(optimizer='rmsprop', loss='mse',metrics=['mse', rmse])\n",
        "\n",
        "history = model.fit(data_train, y_train,\n",
        "                    epochs=10,\n",
        "                    batch_size=128,\n",
        "                    validation_data=(data_test, y_test))\n",
        "\n",
        "#history = model.fit((data_train, y_train),\n",
        "#                              steps_per_epoch=500,\n",
        "#                              epochs=20,\n",
        "#                              batch_size=128,\n",
        "#                              validation_data=(data_test, y_test))\n"
      ],
      "execution_count": 60,
      "outputs": [
        {
          "output_type": "stream",
          "text": [
            "Train on 76651 samples, validate on 71772 samples\n",
            "Epoch 1/10\n",
            "76651/76651 [==============================] - 493s 6ms/step - loss: 15188.9720 - mean_squared_error: 15188.9720 - rmse: 24.7576 - val_loss: 1048.4127 - val_mean_squared_error: 1048.4127 - val_rmse: 15.7861\n",
            "Epoch 2/10\n",
            "76651/76651 [==============================] - 495s 6ms/step - loss: 14862.2407 - mean_squared_error: 14862.2407 - rmse: 26.3465 - val_loss: 1036.8854 - val_mean_squared_error: 1036.8854 - val_rmse: 17.7897\n",
            "Epoch 3/10\n",
            "76651/76651 [==============================] - 493s 6ms/step - loss: 14659.9214 - mean_squared_error: 14659.9214 - rmse: 26.1800 - val_loss: 1032.4901 - val_mean_squared_error: 1032.4901 - val_rmse: 17.6127\n",
            "Epoch 4/10\n",
            "76651/76651 [==============================] - 496s 6ms/step - loss: 14499.2338 - mean_squared_error: 14499.2338 - rmse: 25.9838 - val_loss: 1028.7713 - val_mean_squared_error: 1028.7713 - val_rmse: 17.4337\n",
            "Epoch 5/10\n",
            "76651/76651 [==============================] - 493s 6ms/step - loss: 14374.0264 - mean_squared_error: 14374.0264 - rmse: 25.8093 - val_loss: 1022.4460 - val_mean_squared_error: 1022.4460 - val_rmse: 16.7626\n",
            "Epoch 6/10\n",
            "76651/76651 [==============================] - 495s 6ms/step - loss: 14252.0039 - mean_squared_error: 14252.0039 - rmse: 25.5687 - val_loss: 1067.0035 - val_mean_squared_error: 1067.0035 - val_rmse: 18.3745\n",
            "Epoch 7/10\n",
            "76651/76651 [==============================] - 493s 6ms/step - loss: 14120.8027 - mean_squared_error: 14120.8027 - rmse: 25.3646 - val_loss: 1117.0864 - val_mean_squared_error: 1117.0864 - val_rmse: 19.5886\n",
            "Epoch 8/10\n",
            "76651/76651 [==============================] - 492s 6ms/step - loss: 14009.1969 - mean_squared_error: 14009.1969 - rmse: 25.1861 - val_loss: 1080.8545 - val_mean_squared_error: 1080.8545 - val_rmse: 18.0270\n",
            "Epoch 9/10\n",
            "76651/76651 [==============================] - 492s 6ms/step - loss: 13893.8721 - mean_squared_error: 13893.8721 - rmse: 25.0001 - val_loss: 1026.3108 - val_mean_squared_error: 1026.3108 - val_rmse: 17.6899\n",
            "Epoch 10/10\n",
            "76651/76651 [==============================] - 495s 6ms/step - loss: 13772.4082 - mean_squared_error: 13772.4082 - rmse: 24.7674 - val_loss: 1173.2145 - val_mean_squared_error: 1173.2145 - val_rmse: 20.4396\n"
          ],
          "name": "stdout"
        }
      ]
    },
    {
      "metadata": {
        "id": "sRNSolYgNkRK",
        "colab_type": "code",
        "colab": {
          "base_uri": "https://localhost:8080/",
          "height": 34
        },
        "outputId": "c3207ee0-eae6-4b31-db64-d8624316d19a"
      },
      "cell_type": "code",
      "source": [
        "history"
      ],
      "execution_count": 64,
      "outputs": [
        {
          "output_type": "execute_result",
          "data": {
            "text/plain": [
              "<keras.callbacks.History at 0x7f3a806e0f60>"
            ]
          },
          "metadata": {
            "tags": []
          },
          "execution_count": 64
        }
      ]
    },
    {
      "metadata": {
        "id": "vHvDsWACvTiU",
        "colab_type": "text"
      },
      "cell_type": "markdown",
      "source": [
        "## Criando uma camada de embedding de um modelo já treinado\n",
        "\n",
        "Basta baixar no site: http://nilc.icmc.usp.br/embeddings e fazer os mesmos comandos.\n",
        "\n",
        "\n",
        "Vantagens: o modelo treina mais rápido e aparente é mais estável (diminui o erro com o número de épocas)."
      ]
    },
    {
      "metadata": {
        "id": "i2krlds_vTiU",
        "colab_type": "code",
        "colab": {
          "base_uri": "https://localhost:8080/",
          "height": 422
        },
        "outputId": "71938014-fd59-4435-cad5-9b9b86f1e6cf"
      },
      "cell_type": "code",
      "source": [
        "glove = KeyedVectors.load_word2vec_format('glove_s50.txt')"
      ],
      "execution_count": 50,
      "outputs": [
        {
          "output_type": "error",
          "ename": "ValueError",
          "evalue": "ignored",
          "traceback": [
            "\u001b[0;31m---------------------------------------------------------------------------\u001b[0m",
            "\u001b[0;31mValueError\u001b[0m                                Traceback (most recent call last)",
            "\u001b[0;32m<ipython-input-50-0eeb714eb9b6>\u001b[0m in \u001b[0;36m<module>\u001b[0;34m()\u001b[0m\n\u001b[0;32m----> 1\u001b[0;31m \u001b[0mglove\u001b[0m \u001b[0;34m=\u001b[0m \u001b[0mKeyedVectors\u001b[0m\u001b[0;34m.\u001b[0m\u001b[0mload_word2vec_format\u001b[0m\u001b[0;34m(\u001b[0m\u001b[0;34m'glove_s50.txt'\u001b[0m\u001b[0;34m)\u001b[0m\u001b[0;34m\u001b[0m\u001b[0m\n\u001b[0m",
            "\u001b[0;32m/usr/local/lib/python3.6/dist-packages/gensim/models/keyedvectors.py\u001b[0m in \u001b[0;36mload_word2vec_format\u001b[0;34m(cls, fname, fvocab, binary, encoding, unicode_errors, limit, datatype)\u001b[0m\n\u001b[1;32m   1436\u001b[0m         return _load_word2vec_format(\n\u001b[1;32m   1437\u001b[0m             \u001b[0mcls\u001b[0m\u001b[0;34m,\u001b[0m \u001b[0mfname\u001b[0m\u001b[0;34m,\u001b[0m \u001b[0mfvocab\u001b[0m\u001b[0;34m=\u001b[0m\u001b[0mfvocab\u001b[0m\u001b[0;34m,\u001b[0m \u001b[0mbinary\u001b[0m\u001b[0;34m=\u001b[0m\u001b[0mbinary\u001b[0m\u001b[0;34m,\u001b[0m \u001b[0mencoding\u001b[0m\u001b[0;34m=\u001b[0m\u001b[0mencoding\u001b[0m\u001b[0;34m,\u001b[0m \u001b[0municode_errors\u001b[0m\u001b[0;34m=\u001b[0m\u001b[0municode_errors\u001b[0m\u001b[0;34m,\u001b[0m\u001b[0;34m\u001b[0m\u001b[0m\n\u001b[0;32m-> 1438\u001b[0;31m             limit=limit, datatype=datatype)\n\u001b[0m\u001b[1;32m   1439\u001b[0m \u001b[0;34m\u001b[0m\u001b[0m\n\u001b[1;32m   1440\u001b[0m     \u001b[0;32mdef\u001b[0m \u001b[0mget_keras_embedding\u001b[0m\u001b[0;34m(\u001b[0m\u001b[0mself\u001b[0m\u001b[0;34m,\u001b[0m \u001b[0mtrain_embeddings\u001b[0m\u001b[0;34m=\u001b[0m\u001b[0;32mFalse\u001b[0m\u001b[0;34m)\u001b[0m\u001b[0;34m:\u001b[0m\u001b[0;34m\u001b[0m\u001b[0m\n",
            "\u001b[0;32m/usr/local/lib/python3.6/dist-packages/gensim/models/utils_any2vec.py\u001b[0m in \u001b[0;36m_load_word2vec_format\u001b[0;34m(cls, fname, fvocab, binary, encoding, unicode_errors, limit, datatype)\u001b[0m\n\u001b[1;32m    219\u001b[0m                 \u001b[0mparts\u001b[0m \u001b[0;34m=\u001b[0m \u001b[0mutils\u001b[0m\u001b[0;34m.\u001b[0m\u001b[0mto_unicode\u001b[0m\u001b[0;34m(\u001b[0m\u001b[0mline\u001b[0m\u001b[0;34m.\u001b[0m\u001b[0mrstrip\u001b[0m\u001b[0;34m(\u001b[0m\u001b[0;34m)\u001b[0m\u001b[0;34m,\u001b[0m \u001b[0mencoding\u001b[0m\u001b[0;34m=\u001b[0m\u001b[0mencoding\u001b[0m\u001b[0;34m,\u001b[0m \u001b[0merrors\u001b[0m\u001b[0;34m=\u001b[0m\u001b[0municode_errors\u001b[0m\u001b[0;34m)\u001b[0m\u001b[0;34m.\u001b[0m\u001b[0msplit\u001b[0m\u001b[0;34m(\u001b[0m\u001b[0;34m\" \"\u001b[0m\u001b[0;34m)\u001b[0m\u001b[0;34m\u001b[0m\u001b[0m\n\u001b[1;32m    220\u001b[0m                 \u001b[0;32mif\u001b[0m \u001b[0mlen\u001b[0m\u001b[0;34m(\u001b[0m\u001b[0mparts\u001b[0m\u001b[0;34m)\u001b[0m \u001b[0;34m!=\u001b[0m \u001b[0mvector_size\u001b[0m \u001b[0;34m+\u001b[0m \u001b[0;36m1\u001b[0m\u001b[0;34m:\u001b[0m\u001b[0;34m\u001b[0m\u001b[0m\n\u001b[0;32m--> 221\u001b[0;31m                     \u001b[0;32mraise\u001b[0m \u001b[0mValueError\u001b[0m\u001b[0;34m(\u001b[0m\u001b[0;34m\"invalid vector on line %s (is this really the text format?)\"\u001b[0m \u001b[0;34m%\u001b[0m \u001b[0mline_no\u001b[0m\u001b[0;34m)\u001b[0m\u001b[0;34m\u001b[0m\u001b[0m\n\u001b[0m\u001b[1;32m    222\u001b[0m                 \u001b[0mword\u001b[0m\u001b[0;34m,\u001b[0m \u001b[0mweights\u001b[0m \u001b[0;34m=\u001b[0m \u001b[0mparts\u001b[0m\u001b[0;34m[\u001b[0m\u001b[0;36m0\u001b[0m\u001b[0;34m]\u001b[0m\u001b[0;34m,\u001b[0m \u001b[0;34m[\u001b[0m\u001b[0mdatatype\u001b[0m\u001b[0;34m(\u001b[0m\u001b[0mx\u001b[0m\u001b[0;34m)\u001b[0m \u001b[0;32mfor\u001b[0m \u001b[0mx\u001b[0m \u001b[0;32min\u001b[0m \u001b[0mparts\u001b[0m\u001b[0;34m[\u001b[0m\u001b[0;36m1\u001b[0m\u001b[0;34m:\u001b[0m\u001b[0;34m]\u001b[0m\u001b[0;34m]\u001b[0m\u001b[0;34m\u001b[0m\u001b[0m\n\u001b[1;32m    223\u001b[0m                 \u001b[0madd_word\u001b[0m\u001b[0;34m(\u001b[0m\u001b[0mword\u001b[0m\u001b[0;34m,\u001b[0m \u001b[0mweights\u001b[0m\u001b[0;34m)\u001b[0m\u001b[0;34m\u001b[0m\u001b[0m\n",
            "\u001b[0;31mValueError\u001b[0m: invalid vector on line 311886 (is this really the text format?)"
          ]
        }
      ]
    },
    {
      "metadata": {
        "id": "LlH45eD_vTiW",
        "colab_type": "code",
        "colab": {}
      },
      "cell_type": "code",
      "source": [
        "embed=glove.get_keras_embedding()"
      ],
      "execution_count": 0,
      "outputs": []
    },
    {
      "metadata": {
        "id": "EeVa2BrtvTiZ",
        "colab_type": "text"
      },
      "cell_type": "markdown",
      "source": [
        "## Rede convolucional com o embedding Glove"
      ]
    },
    {
      "metadata": {
        "id": "yzPHixeTvTia",
        "colab_type": "code",
        "colab": {}
      },
      "cell_type": "code",
      "source": [
        "model_glove= Sequential()\n",
        "model_glove.add(embed)\n",
        "model_glove.add(Convolution1D(32,7,activation='relu'))\n",
        "model_glove.add(MaxPooling1D(5))\n",
        "model_glove.add(Convolution1D(32,7,activation='relu'))\n",
        "model_glove.add(GlobalMaxPooling1D())\n",
        "model_glove.add(Dense(1, kernel_initializer='normal'))\n",
        "\n",
        "\n",
        "model.summary()"
      ],
      "execution_count": 0,
      "outputs": []
    },
    {
      "metadata": {
        "id": "eVUrU4DgvTic",
        "colab_type": "code",
        "colab": {}
      },
      "cell_type": "code",
      "source": [
        "model_glove.compile(optimizer='adam',\n",
        "              loss='mse',\n",
        "              metrics=['mse'])\n",
        "history = model_glove.fit(data_train, y_train,\n",
        "                    epochs=3,\n",
        "                    batch_size=128,\n",
        "                    validation_data=(data_test, y_test))"
      ],
      "execution_count": 0,
      "outputs": []
    },
    {
      "metadata": {
        "id": "QY6ExVH9vTie",
        "colab_type": "text"
      },
      "cell_type": "markdown",
      "source": [
        "# Considerações \n",
        "\n",
        "Por enquanto estamos com resultados bons em todos modelos: RMSE entre 32 e 35 dias.\n",
        "\n",
        "Para tentar diminuir isso eu sugiro os seguintes testes:\n",
        "\n",
        "- Criar uma rede recorrente com LSTM ou GRU (já importei essas layers do Keras e é muito semelhante que construir uma rede convolucional).\n",
        "\n",
        "- Criar redes recorrentes bidirecionais conforme o link: https://github.com/fchollet/deep-learning-with-python-notebooks/blob/master/6.3-advanced-usage-of-recurrent-neural-networks.ipynb\n",
        "\n",
        "- Testar parâmetros diferentes no TF-IDF e Tokenizer, como montar as tabelas em sequência de 2 ou mais palavras, aumentar/diminuir features geradas e etc. É olhar no site para ver como faz, só alterar parâmetros das funções.\n",
        "\n",
        "- Trocar modelo de embedding além do Glove 50. \n",
        "\n",
        "- Talvez excluir do treino os processos mais antigos, que em geral são meio que outliers.\n",
        "\n",
        "- Por fim o cross-validation para comitê (média) das previsões.\n",
        "\n",
        "Para esses modelos de redes, compensa usar nuvem para treino, pois demoram um bom tempo em treino."
      ]
    },
    {
      "metadata": {
        "id": "dz-mXveIvTif",
        "colab_type": "code",
        "colab": {}
      },
      "cell_type": "code",
      "source": [
        "#!cat /proc/cpuinfo"
      ],
      "execution_count": 0,
      "outputs": []
    }
  ]
}