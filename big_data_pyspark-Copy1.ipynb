{
 "cells": [
  {
   "cell_type": "markdown",
   "metadata": {},
   "source": [
    "## Colocando dataset no ambiente Spark"
   ]
  },
  {
   "cell_type": "code",
   "execution_count": 1,
   "metadata": {},
   "outputs": [],
   "source": [
    "from pyspark import SparkContext\n",
    "from pyspark.sql import SQLContext\n",
    "import pyspark\n",
    "from pyspark.sql import Row\n",
    "import csv \n",
    "from pyspark.ml import Pipeline\n",
    "from pyspark.ml.classification import DecisionTreeClassifier\n",
    "from pyspark.ml.feature import OneHotEncoderEstimator, StringIndexer, VectorAssembler\n",
    "from pyspark.ml.classification import RandomForestClassifier\n",
    "from pyspark.ml.classification import LogisticRegression\n",
    "import matplotlib.pyplot as plt\n",
    "import numpy as np\n",
    "from pyspark.ml.evaluation import BinaryClassificationEvaluator"
   ]
  },
  {
   "cell_type": "code",
   "execution_count": 2,
   "metadata": {},
   "outputs": [],
   "source": [
    "sc = SparkContext('local','example')\n",
    "sql_c = SQLContext(sc)\n",
    "df =  sql_c.read.csv('C:\\\\Users\\\\lucas\\\\Documents\\\\Itau_Analytics\\\\Big Data\\\\consumer_complaints_fim.csv',header=True, sep=\";\")\n",
    "\n"
   ]
  },
  {
   "cell_type": "code",
   "execution_count": 3,
   "metadata": {},
   "outputs": [
    {
     "data": {
      "text/plain": [
       "['_c0',\n",
       " 'product',\n",
       " 'issue',\n",
       " 'company',\n",
       " 'state',\n",
       " 'submitted_via',\n",
       " 'timely_response',\n",
       " 'consumer_disputed?']"
      ]
     },
     "execution_count": 3,
     "metadata": {},
     "output_type": "execute_result"
    }
   ],
   "source": [
    "df.columns"
   ]
  },
  {
   "cell_type": "markdown",
   "metadata": {},
   "source": [
    "## Importancia da variavel"
   ]
  },
  {
   "cell_type": "code",
   "execution_count": 4,
   "metadata": {},
   "outputs": [],
   "source": [
    "import pandas as pd\n",
    "import numpy as np\n",
    "\n",
    "\n",
    "# Calculate information value\n",
    "def calc_iv(df, feature, target, pr=False):\n",
    "    \"\"\"\n",
    "    Set pr=True to enable printing of output.\n",
    "    \n",
    "    Output: \n",
    "      * iv: float,\n",
    "      * data: pandas.DataFrame\n",
    "    \"\"\"\n",
    "    \n",
    "    lst = []\n",
    "\n",
    "    df[feature] = df[feature].fillna(\"NULL\")\n",
    "\n",
    "    for i in range(df[feature].nunique()):\n",
    "        val = list(df[feature].unique())[i]\n",
    "        lst.append([feature,                                                        # Variable\n",
    "                    val,                                                            # Value\n",
    "                    df[df[feature] == val].count()[feature],                        # All\n",
    "                    df[(df[feature] == val) & (df[target] == 'No')].count()[feature],  # Good (think: Fraud == 0)\n",
    "                    df[(df[feature] == val) & (df[target] == 'Yes')].count()[feature]]) # Bad (think: Fraud == 1)\n",
    "\n",
    "    data = pd.DataFrame(lst, columns=['Variable', 'Value', 'All', 'Good', 'Bad'])\n",
    "\n",
    "    data['Share'] = data['All'] / data['All'].sum()\n",
    "    data['Bad Rate'] = data['Bad'] / data['All']\n",
    "    data['Distribution Good'] = (data['All'] - data['Bad']) / (data['All'].sum() - data['Bad'].sum())\n",
    "    data['Distribution Bad'] = data['Bad'] / data['Bad'].sum()\n",
    "    data['WoE'] = np.log(data['Distribution Good'] / data['Distribution Bad'])\n",
    "\n",
    "    data = data.replace({'WoE': {np.inf: 0, -np.inf: 0}})\n",
    "\n",
    "    data['IV'] = data['WoE'] * (data['Distribution Good'] - data['Distribution Bad'])\n",
    "\n",
    "    data = data.sort_values(by=['Variable', 'Value'], ascending=[True, True])\n",
    "    data.index = range(len(data.index))\n",
    "\n",
    "    if pr:\n",
    "        print(data)\n",
    "        print('IV = ', data['IV'].sum())\n",
    "\n",
    "\n",
    "    iv = data['IV'].sum()\n",
    "    # print(iv)\n",
    "\n",
    "    return iv, data"
   ]
  },
  {
   "cell_type": "code",
   "execution_count": 5,
   "metadata": {},
   "outputs": [],
   "source": [
    "dfp=df.toPandas()\n"
   ]
  },
  {
   "cell_type": "code",
   "execution_count": 6,
   "metadata": {},
   "outputs": [
    {
     "data": {
      "text/html": [
       "<div>\n",
       "<style scoped>\n",
       "    .dataframe tbody tr th:only-of-type {\n",
       "        vertical-align: middle;\n",
       "    }\n",
       "\n",
       "    .dataframe tbody tr th {\n",
       "        vertical-align: top;\n",
       "    }\n",
       "\n",
       "    .dataframe thead th {\n",
       "        text-align: right;\n",
       "    }\n",
       "</style>\n",
       "<table border=\"1\" class=\"dataframe\">\n",
       "  <thead>\n",
       "    <tr style=\"text-align: right;\">\n",
       "      <th></th>\n",
       "      <th>date_received</th>\n",
       "      <th>product</th>\n",
       "      <th>sub_product</th>\n",
       "      <th>issue</th>\n",
       "      <th>sub_issue</th>\n",
       "      <th>consumer_complaint_narrative</th>\n",
       "      <th>company_public_response</th>\n",
       "      <th>company</th>\n",
       "      <th>state</th>\n",
       "      <th>zipcode</th>\n",
       "      <th>tags</th>\n",
       "      <th>consumer_consent_provided</th>\n",
       "      <th>submitted_via</th>\n",
       "      <th>date_sent_to_company</th>\n",
       "      <th>company_response_to_consumer</th>\n",
       "      <th>timely_response</th>\n",
       "      <th>consumer_disputed?</th>\n",
       "      <th>complaint_id</th>\n",
       "    </tr>\n",
       "  </thead>\n",
       "  <tbody>\n",
       "    <tr>\n",
       "      <th>count</th>\n",
       "      <td>686898</td>\n",
       "      <td>625019</td>\n",
       "      <td>623154</td>\n",
       "      <td>622797</td>\n",
       "      <td>622654</td>\n",
       "      <td>622595</td>\n",
       "      <td>556699</td>\n",
       "      <td>556222</td>\n",
       "      <td>556091</td>\n",
       "      <td>556035</td>\n",
       "      <td>556012</td>\n",
       "      <td>522231</td>\n",
       "      <td>489617</td>\n",
       "      <td>489461</td>\n",
       "      <td>489450</td>\n",
       "      <td>489448</td>\n",
       "      <td>489444</td>\n",
       "      <td>489444</td>\n",
       "    </tr>\n",
       "    <tr>\n",
       "      <th>unique</th>\n",
       "      <td>62631</td>\n",
       "      <td>3819</td>\n",
       "      <td>1640</td>\n",
       "      <td>1267</td>\n",
       "      <td>324</td>\n",
       "      <td>65471</td>\n",
       "      <td>1068</td>\n",
       "      <td>4029</td>\n",
       "      <td>263</td>\n",
       "      <td>26982</td>\n",
       "      <td>33828</td>\n",
       "      <td>32653</td>\n",
       "      <td>191</td>\n",
       "      <td>1586</td>\n",
       "      <td>26</td>\n",
       "      <td>18</td>\n",
       "      <td>14</td>\n",
       "      <td>489443</td>\n",
       "    </tr>\n",
       "    <tr>\n",
       "      <th>top</th>\n",
       "      <td>\";\"Company chooses not to provide a public res...</td>\n",
       "      <td>Mortgage</td>\n",
       "      <td>NA</td>\n",
       "      <td>Loan modification,collection,foreclosure</td>\n",
       "      <td>NA</td>\n",
       "      <td>NA</td>\n",
       "      <td>NA</td>\n",
       "      <td>Bank of America</td>\n",
       "      <td>CA</td>\n",
       "      <td>Yes</td>\n",
       "      <td>NA</td>\n",
       "      <td>NA</td>\n",
       "      <td>Web</td>\n",
       "      <td>03/12/2014</td>\n",
       "      <td>Closed with explanation</td>\n",
       "      <td>Yes</td>\n",
       "      <td>No</td>\n",
       "      <td>Racketeering - XXXX</td>\n",
       "    </tr>\n",
       "    <tr>\n",
       "      <th>freq</th>\n",
       "      <td>19200</td>\n",
       "      <td>186475</td>\n",
       "      <td>158510</td>\n",
       "      <td>97191</td>\n",
       "      <td>370263</td>\n",
       "      <td>489276</td>\n",
       "      <td>436987</td>\n",
       "      <td>52510</td>\n",
       "      <td>71751</td>\n",
       "      <td>40183</td>\n",
       "      <td>422854</td>\n",
       "      <td>432499</td>\n",
       "      <td>294812</td>\n",
       "      <td>917</td>\n",
       "      <td>353580</td>\n",
       "      <td>477535</td>\n",
       "      <td>392805</td>\n",
       "      <td>2</td>\n",
       "    </tr>\n",
       "  </tbody>\n",
       "</table>\n",
       "</div>"
      ],
      "text/plain": [
       "                                            date_received   product  \\\n",
       "count                                              686898    625019   \n",
       "unique                                              62631      3819   \n",
       "top     \";\"Company chooses not to provide a public res...  Mortgage   \n",
       "freq                                                19200    186475   \n",
       "\n",
       "       sub_product                                     issue sub_issue  \\\n",
       "count       623154                                    622797    622654   \n",
       "unique        1640                                      1267       324   \n",
       "top             NA  Loan modification,collection,foreclosure        NA   \n",
       "freq        158510                                     97191    370263   \n",
       "\n",
       "       consumer_complaint_narrative company_public_response          company  \\\n",
       "count                        622595                  556699           556222   \n",
       "unique                        65471                    1068             4029   \n",
       "top                              NA                      NA  Bank of America   \n",
       "freq                         489276                  436987            52510   \n",
       "\n",
       "         state zipcode    tags consumer_consent_provided submitted_via  \\\n",
       "count   556091  556035  556012                    522231        489617   \n",
       "unique     263   26982   33828                     32653           191   \n",
       "top         CA     Yes      NA                        NA           Web   \n",
       "freq     71751   40183  422854                    432499        294812   \n",
       "\n",
       "       date_sent_to_company company_response_to_consumer timely_response  \\\n",
       "count                489461                       489450          489448   \n",
       "unique                 1586                           26              18   \n",
       "top              03/12/2014      Closed with explanation             Yes   \n",
       "freq                    917                       353580          477535   \n",
       "\n",
       "       consumer_disputed?           complaint_id  \n",
       "count              489444                 489444  \n",
       "unique                 14                 489443  \n",
       "top                    No   Racketeering - XXXX   \n",
       "freq               392805                      2  "
      ]
     },
     "execution_count": 6,
     "metadata": {},
     "output_type": "execute_result"
    }
   ],
   "source": [
    "dfp.describe()"
   ]
  },
  {
   "cell_type": "code",
   "execution_count": 7,
   "metadata": {},
   "outputs": [
    {
     "data": {
      "text/plain": [
       "(0.14273259342478248,\n",
       "            Variable                                              Value  \\\n",
       " 0   timely_response                                Case number : XXXX    \n",
       " 1   timely_response                Creditor Class Medical/Health Care    \n",
       " 2   timely_response   Excessive Fees, such as Forced -Placed Insura...   \n",
       " 3   timely_response   Filing forged/faked documents in courts and p...   \n",
       " 4   timely_response                                         I XXXX gt    \n",
       " 5   timely_response   Ignoring customer complaints and \"\"\"\" qualifi...   \n",
       " 6   timely_response   Participate in the active concealment of orig...   \n",
       " 7   timely_response                                              XXXX    \n",
       " 8   timely_response                                    XXXX/XXXX/XXXX    \n",
       " 9   timely_response     admitted to breaking in/and claims dual roles    \n",
       " 10  timely_response   also XXXX where my only daughter/child and gr...   \n",
       " 11  timely_response   especially when I was in the VEHICLE OF MY CH...   \n",
       " 12  timely_response   sending to her manager, will call back tomorr...   \n",
       " 13  timely_response   wrote letter to XXXX XXXX, Pres Of Macy 's Co...   \n",
       " 14  timely_response                                            1773987   \n",
       " 15  timely_response                                               NULL   \n",
       " 16  timely_response                                                 No   \n",
       " 17  timely_response                                                Web   \n",
       " 18  timely_response                                                Yes   \n",
       " \n",
       "        All    Good    Bad     Share  Bad Rate  Distribution Good  \\\n",
       " 0        1       0      0  0.000001  0.000000           0.000002   \n",
       " 1        1       0      0  0.000001  0.000000           0.000002   \n",
       " 2        1       0      0  0.000001  0.000000           0.000002   \n",
       " 3        1       0      0  0.000001  0.000000           0.000002   \n",
       " 4        1       0      0  0.000001  0.000000           0.000002   \n",
       " 5        2       0      0  0.000003  0.000000           0.000003   \n",
       " 6        1       0      0  0.000001  0.000000           0.000002   \n",
       " 7        1       0      0  0.000001  0.000000           0.000002   \n",
       " 8        1       0      0  0.000001  0.000000           0.000002   \n",
       " 9        1       0      0  0.000001  0.000000           0.000002   \n",
       " 10       1       0      0  0.000001  0.000000           0.000002   \n",
       " 11       1       0      0  0.000001  0.000000           0.000002   \n",
       " 12       1       0      0  0.000001  0.000000           0.000002   \n",
       " 13       1       0      0  0.000001  0.000000           0.000002   \n",
       " 14       1       0      0  0.000001  0.000000           0.000002   \n",
       " 15  197450       0      0  0.287452  0.000000           0.334507   \n",
       " 16   11896   10513   1383  0.017318  0.116258           0.017810   \n",
       " 17       1       0      0  0.000001  0.000000           0.000002   \n",
       " 18  477535  382292  95243  0.695205  0.199447           0.647654   \n",
       " \n",
       "     Distribution Bad       WoE        IV  \n",
       " 0           0.000000  0.000000  0.000000  \n",
       " 1           0.000000  0.000000  0.000000  \n",
       " 2           0.000000  0.000000  0.000000  \n",
       " 3           0.000000  0.000000  0.000000  \n",
       " 4           0.000000  0.000000  0.000000  \n",
       " 5           0.000000  0.000000  0.000000  \n",
       " 6           0.000000  0.000000  0.000000  \n",
       " 7           0.000000  0.000000  0.000000  \n",
       " 8           0.000000  0.000000  0.000000  \n",
       " 9           0.000000  0.000000  0.000000  \n",
       " 10          0.000000  0.000000  0.000000  \n",
       " 11          0.000000  0.000000  0.000000  \n",
       " 12          0.000000  0.000000  0.000000  \n",
       " 13          0.000000  0.000000  0.000000  \n",
       " 14          0.000000  0.000000  0.000000  \n",
       " 15          0.000000  0.000000  0.000000  \n",
       " 16          0.014313  0.218622  0.000765  \n",
       " 17          0.000000  0.000000  0.000000  \n",
       " 18          0.985687 -0.419982  0.141968  )"
      ]
     },
     "execution_count": 7,
     "metadata": {},
     "output_type": "execute_result"
    }
   ],
   "source": [
    "calc_iv(dfp, 'timely_response', 'consumer_disputed?', pr=False)"
   ]
  },
  {
   "cell_type": "code",
   "execution_count": 8,
   "metadata": {},
   "outputs": [
    {
     "data": {
      "text/plain": [
       "count     489444\n",
       "unique        14\n",
       "top           No\n",
       "freq      392805\n",
       "Name: consumer_disputed?, dtype: object"
      ]
     },
     "execution_count": 8,
     "metadata": {},
     "output_type": "execute_result"
    }
   ],
   "source": [
    "dfp['consumer_disputed?'].describe()"
   ]
  },
  {
   "cell_type": "code",
   "execution_count": 10,
   "metadata": {},
   "outputs": [],
   "source": [
    "df_certo=dfp.loc[dfp['consumer_disputed?'].isin(['Yes','No'])]"
   ]
  },
  {
   "cell_type": "code",
   "execution_count": 11,
   "metadata": {},
   "outputs": [
    {
     "data": {
      "text/html": [
       "<div>\n",
       "<style scoped>\n",
       "    .dataframe tbody tr th:only-of-type {\n",
       "        vertical-align: middle;\n",
       "    }\n",
       "\n",
       "    .dataframe tbody tr th {\n",
       "        vertical-align: top;\n",
       "    }\n",
       "\n",
       "    .dataframe thead th {\n",
       "        text-align: right;\n",
       "    }\n",
       "</style>\n",
       "<table border=\"1\" class=\"dataframe\">\n",
       "  <thead>\n",
       "    <tr style=\"text-align: right;\">\n",
       "      <th></th>\n",
       "      <th>date_received</th>\n",
       "      <th>product</th>\n",
       "      <th>sub_product</th>\n",
       "      <th>issue</th>\n",
       "      <th>sub_issue</th>\n",
       "      <th>consumer_complaint_narrative</th>\n",
       "      <th>company_public_response</th>\n",
       "      <th>company</th>\n",
       "      <th>state</th>\n",
       "      <th>zipcode</th>\n",
       "      <th>tags</th>\n",
       "      <th>consumer_consent_provided</th>\n",
       "      <th>submitted_via</th>\n",
       "      <th>date_sent_to_company</th>\n",
       "      <th>company_response_to_consumer</th>\n",
       "      <th>timely_response</th>\n",
       "      <th>consumer_disputed?</th>\n",
       "      <th>complaint_id</th>\n",
       "    </tr>\n",
       "  </thead>\n",
       "  <tbody>\n",
       "    <tr>\n",
       "      <th>count</th>\n",
       "      <td>489431</td>\n",
       "      <td>489431</td>\n",
       "      <td>489431</td>\n",
       "      <td>489431</td>\n",
       "      <td>489431</td>\n",
       "      <td>489431</td>\n",
       "      <td>489431</td>\n",
       "      <td>489431</td>\n",
       "      <td>489431</td>\n",
       "      <td>489431</td>\n",
       "      <td>489431</td>\n",
       "      <td>489431</td>\n",
       "      <td>489431</td>\n",
       "      <td>489431</td>\n",
       "      <td>489431</td>\n",
       "      <td>489431</td>\n",
       "      <td>489431</td>\n",
       "      <td>489431</td>\n",
       "    </tr>\n",
       "    <tr>\n",
       "      <th>unique</th>\n",
       "      <td>1608</td>\n",
       "      <td>11</td>\n",
       "      <td>47</td>\n",
       "      <td>95</td>\n",
       "      <td>69</td>\n",
       "      <td>280</td>\n",
       "      <td>11</td>\n",
       "      <td>3376</td>\n",
       "      <td>63</td>\n",
       "      <td>26896</td>\n",
       "      <td>4</td>\n",
       "      <td>5</td>\n",
       "      <td>6</td>\n",
       "      <td>1557</td>\n",
       "      <td>8</td>\n",
       "      <td>2</td>\n",
       "      <td>2</td>\n",
       "      <td>489431</td>\n",
       "    </tr>\n",
       "    <tr>\n",
       "      <th>top</th>\n",
       "      <td>06/26/2014</td>\n",
       "      <td>Mortgage</td>\n",
       "      <td>NA</td>\n",
       "      <td>Loan modification,collection,foreclosure</td>\n",
       "      <td>NA</td>\n",
       "      <td>NA</td>\n",
       "      <td>NA</td>\n",
       "      <td>Bank of America</td>\n",
       "      <td>CA</td>\n",
       "      <td>NA</td>\n",
       "      <td>NA</td>\n",
       "      <td>NA</td>\n",
       "      <td>Web</td>\n",
       "      <td>03/12/2014</td>\n",
       "      <td>Closed with explanation</td>\n",
       "      <td>Yes</td>\n",
       "      <td>No</td>\n",
       "      <td>465948</td>\n",
       "    </tr>\n",
       "    <tr>\n",
       "      <th>freq</th>\n",
       "      <td>916</td>\n",
       "      <td>171617</td>\n",
       "      <td>137947</td>\n",
       "      <td>92048</td>\n",
       "      <td>309609</td>\n",
       "      <td>489151</td>\n",
       "      <td>436985</td>\n",
       "      <td>52510</td>\n",
       "      <td>71751</td>\n",
       "      <td>4316</td>\n",
       "      <td>422854</td>\n",
       "      <td>432499</td>\n",
       "      <td>294812</td>\n",
       "      <td>917</td>\n",
       "      <td>353580</td>\n",
       "      <td>477535</td>\n",
       "      <td>392805</td>\n",
       "      <td>1</td>\n",
       "    </tr>\n",
       "  </tbody>\n",
       "</table>\n",
       "</div>"
      ],
      "text/plain": [
       "       date_received   product sub_product  \\\n",
       "count         489431    489431      489431   \n",
       "unique          1608        11          47   \n",
       "top       06/26/2014  Mortgage          NA   \n",
       "freq             916    171617      137947   \n",
       "\n",
       "                                           issue sub_issue  \\\n",
       "count                                     489431    489431   \n",
       "unique                                        95        69   \n",
       "top     Loan modification,collection,foreclosure        NA   \n",
       "freq                                       92048    309609   \n",
       "\n",
       "       consumer_complaint_narrative company_public_response          company  \\\n",
       "count                        489431                  489431           489431   \n",
       "unique                          280                      11             3376   \n",
       "top                              NA                      NA  Bank of America   \n",
       "freq                         489151                  436985            52510   \n",
       "\n",
       "         state zipcode    tags consumer_consent_provided submitted_via  \\\n",
       "count   489431  489431  489431                    489431        489431   \n",
       "unique      63   26896       4                         5             6   \n",
       "top         CA      NA      NA                        NA           Web   \n",
       "freq     71751    4316  422854                    432499        294812   \n",
       "\n",
       "       date_sent_to_company company_response_to_consumer timely_response  \\\n",
       "count                489431                       489431          489431   \n",
       "unique                 1557                            8               2   \n",
       "top              03/12/2014      Closed with explanation             Yes   \n",
       "freq                    917                       353580          477535   \n",
       "\n",
       "       consumer_disputed? complaint_id  \n",
       "count              489431       489431  \n",
       "unique                  2       489431  \n",
       "top                    No       465948  \n",
       "freq               392805            1  "
      ]
     },
     "execution_count": 11,
     "metadata": {},
     "output_type": "execute_result"
    }
   ],
   "source": [
    "df_certo.describe()"
   ]
  },
  {
   "cell_type": "code",
   "execution_count": 12,
   "metadata": {},
   "outputs": [
    {
     "name": "stderr",
     "output_type": "stream",
     "text": [
      "C:\\Users\\lucas\\AppData\\Local\\Continuum\\anaconda3\\lib\\site-packages\\ipykernel_launcher.py:17: SettingWithCopyWarning: \n",
      "A value is trying to be set on a copy of a slice from a DataFrame.\n",
      "Try using .loc[row_indexer,col_indexer] = value instead\n",
      "\n",
      "See the caveats in the documentation: http://pandas.pydata.org/pandas-docs/stable/indexing.html#indexing-view-versus-copy\n"
     ]
    },
    {
     "data": {
      "text/plain": [
       "(0.007951261416124414,\n",
       "           Variable Value     All    Good    Bad     Share  Bad Rate  \\\n",
       " 0  timely_response    No   11896   10513   1383  0.024306  0.116258   \n",
       " 1  timely_response   Yes  477535  382292  95243  0.975694  0.199447   \n",
       " \n",
       "    Distribution Good  Distribution Bad       WoE        IV  \n",
       " 0           0.026764          0.014313  0.625892  0.007793  \n",
       " 1           0.973236          0.985687 -0.012712  0.000158  )"
      ]
     },
     "execution_count": 12,
     "metadata": {},
     "output_type": "execute_result"
    }
   ],
   "source": [
    "calc_iv(df_certo, 'timely_response', 'consumer_disputed?', pr=False)"
   ]
  },
  {
   "cell_type": "code",
   "execution_count": 13,
   "metadata": {},
   "outputs": [
    {
     "name": "stderr",
     "output_type": "stream",
     "text": [
      "C:\\Users\\lucas\\AppData\\Local\\Continuum\\anaconda3\\lib\\site-packages\\ipykernel_launcher.py:17: SettingWithCopyWarning: \n",
      "A value is trying to be set on a copy of a slice from a DataFrame.\n",
      "Try using .loc[row_indexer,col_indexer] = value instead\n",
      "\n",
      "See the caveats in the documentation: http://pandas.pydata.org/pandas-docs/stable/indexing.html#indexing-view-versus-copy\n"
     ]
    },
    {
     "data": {
      "text/plain": [
       "(0.027804499509781894,\n",
       "         Variable        Value     All    Good    Bad     Share  Bad Rate  \\\n",
       " 0  submitted_via        Email     344     273     71  0.000703  0.206395   \n",
       " 1  submitted_via          Fax    8118    6371   1747  0.016587  0.215201   \n",
       " 2  submitted_via        Phone   40026   33285   6741  0.081781  0.168416   \n",
       " 3  submitted_via  Postal mail   36752   31398   5354  0.075091  0.145679   \n",
       " 4  submitted_via     Referral  109379   90696  18683  0.223482  0.170810   \n",
       " 5  submitted_via          Web  294812  230782  64030  0.602357  0.217189   \n",
       " \n",
       "    Distribution Good  Distribution Bad       WoE        IV  \n",
       " 0           0.000695          0.000735 -0.055674  0.000002  \n",
       " 1           0.016219          0.018080 -0.108609  0.000202  \n",
       " 2           0.084737          0.069764  0.194433  0.002911  \n",
       " 3           0.079933          0.055410  0.366435  0.008986  \n",
       " 4           0.230893          0.193354  0.177434  0.006661  \n",
       " 5           0.587523          0.662658 -0.120344  0.009042  )"
      ]
     },
     "execution_count": 13,
     "metadata": {},
     "output_type": "execute_result"
    }
   ],
   "source": [
    "calc_iv(df_certo, 'submitted_via', 'consumer_disputed?', pr=False)"
   ]
  },
  {
   "cell_type": "code",
   "execution_count": 14,
   "metadata": {},
   "outputs": [
    {
     "name": "stderr",
     "output_type": "stream",
     "text": [
      "C:\\Users\\lucas\\AppData\\Local\\Continuum\\anaconda3\\lib\\site-packages\\ipykernel_launcher.py:17: SettingWithCopyWarning: \n",
      "A value is trying to be set on a copy of a slice from a DataFrame.\n",
      "Try using .loc[row_indexer,col_indexer] = value instead\n",
      "\n",
      "See the caveats in the documentation: http://pandas.pydata.org/pandas-docs/stable/indexing.html#indexing-view-versus-copy\n"
     ]
    },
    {
     "data": {
      "text/plain": [
       "(0.03319812684036684,\n",
       "    Variable                    Value     All    Good    Bad     Share  \\\n",
       " 0   product  Bank account or service   56874   45954  10920  0.116204   \n",
       " 1   product            Consumer Loan   17329   13548   3781  0.035406   \n",
       " 2   product              Credit card   58576   46569  12007  0.119682   \n",
       " 3   product         Credit reporting   79371   66972  12399  0.162170   \n",
       " 4   product          Debt collection   83574   69178  14396  0.170757   \n",
       " 5   product          Money transfers    3150    2748    402  0.006436   \n",
       " 6   product                 Mortgage  171617  132311  39306  0.350646   \n",
       " 7   product  Other financial service     450     365     85  0.000919   \n",
       " 8   product              Payday loan    3157    2670    487  0.006450   \n",
       " 9   product             Prepaid card    1613    1381    232  0.003296   \n",
       " 10  product             Student loan   13720   11109   2611  0.028033   \n",
       " \n",
       "     Bad Rate  Distribution Good  Distribution Bad       WoE        IV  \n",
       " 0   0.192003           0.116989          0.113013  0.034579  0.000137  \n",
       " 1   0.218189           0.034490          0.039130 -0.126215  0.000586  \n",
       " 2   0.204982           0.118555          0.124263 -0.047020  0.000268  \n",
       " 3   0.156216           0.170497          0.128319  0.284193  0.011987  \n",
       " 4   0.172255           0.176113          0.148987  0.167267  0.004537  \n",
       " 5   0.127619           0.006996          0.004160  0.519711  0.001474  \n",
       " 6   0.229033           0.336836          0.406785 -0.188687  0.013198  \n",
       " 7   0.188889           0.000929          0.000880  0.054781  0.000003  \n",
       " 8   0.154260           0.006797          0.005040  0.299104  0.000526  \n",
       " 9   0.143831           0.003516          0.002401  0.381360  0.000425  \n",
       " 10  0.190306           0.028281          0.027022  0.045557  0.000057  )"
      ]
     },
     "execution_count": 14,
     "metadata": {},
     "output_type": "execute_result"
    }
   ],
   "source": [
    "calc_iv(df_certo, 'product', 'consumer_disputed?', pr=False)"
   ]
  },
  {
   "cell_type": "markdown",
   "metadata": {},
   "source": [
    "## Separando as variaveis"
   ]
  },
  {
   "cell_type": "code",
   "execution_count": 4,
   "metadata": {},
   "outputs": [],
   "source": [
    "df=df.select('product','issue','company',\n",
    " 'state',\n",
    " 'submitted_via',\n",
    " 'timely_response',\n",
    " 'consumer_disputed?')\n",
    "df = df.na.drop()"
   ]
  },
  {
   "cell_type": "markdown",
   "metadata": {},
   "source": [
    "## Pre-processamento com pipeline"
   ]
  },
  {
   "cell_type": "code",
   "execution_count": 5,
   "metadata": {},
   "outputs": [],
   "source": [
    "from numpy import array\n",
    "\n",
    "\n",
    "\n",
    "#parse data\n",
    "\n",
    "categoricalColumns=['product','issue','company',                 \n",
    " 'state',\n",
    " 'submitted_via',\n",
    " 'timely_response']\n",
    "\n",
    "stages = []\n",
    "\n",
    "for categoricalCol in categoricalColumns:\n",
    "    stringIndexer = StringIndexer(inputCol = categoricalCol, outputCol = categoricalCol + 'Index')\n",
    "    encoder = OneHotEncoderEstimator(inputCols=[stringIndexer.getOutputCol()], outputCols=[categoricalCol + \"classVec\"])\n",
    "    stages += [stringIndexer, encoder]\n",
    "\n",
    "    \n",
    "label_stringIdx = StringIndexer(inputCol = 'consumer_disputed?', outputCol = 'label')\n",
    "stages += [label_stringIdx]\n",
    "assemblerInputs = [c + \"classVec\" for c in categoricalColumns] \n",
    "assembler = VectorAssembler(inputCols=assemblerInputs, outputCol=\"features\")\n",
    "stages += [assembler]"
   ]
  },
  {
   "cell_type": "code",
   "execution_count": 6,
   "metadata": {},
   "outputs": [
    {
     "name": "stdout",
     "output_type": "stream",
     "text": [
      "root\n",
      " |-- label: double (nullable = false)\n",
      " |-- features: vector (nullable = true)\n",
      "\n"
     ]
    }
   ],
   "source": [
    "pipeline = Pipeline(stages = stages)\n",
    "pipelineModel = pipeline.fit(df)\n",
    "df = pipelineModel.transform(df)\n",
    "selectedCols = ['label', 'features']\n",
    "df = df.select(selectedCols)\n",
    "df.printSchema()"
   ]
  },
  {
   "cell_type": "markdown",
   "metadata": {},
   "source": [
    "## Treino e teste split"
   ]
  },
  {
   "cell_type": "code",
   "execution_count": 19,
   "metadata": {},
   "outputs": [],
   "source": [
    "train, test = df.randomSplit([0.85, 0.15], seed = 2018)\n"
   ]
  },
  {
   "cell_type": "code",
   "execution_count": 20,
   "metadata": {},
   "outputs": [
    {
     "data": {
      "text/plain": [
       "DataFrame[features: vector]"
      ]
     },
     "execution_count": 20,
     "metadata": {},
     "output_type": "execute_result"
    }
   ],
   "source": [
    "df.select('features')"
   ]
  },
  {
   "cell_type": "markdown",
   "metadata": {},
   "source": [
    "## Regressao logistica"
   ]
  },
  {
   "cell_type": "code",
   "execution_count": 21,
   "metadata": {},
   "outputs": [],
   "source": [
    "lr = LogisticRegression(featuresCol = 'features', labelCol = 'label', maxIter=10)\n",
    "lrModel = lr.fit(train)"
   ]
  },
  {
   "cell_type": "code",
   "execution_count": 22,
   "metadata": {},
   "outputs": [
    {
     "name": "stdout",
     "output_type": "stream",
     "text": [
      "+-----+--------------------+----------+--------------------+\n",
      "|label|       rawPrediction|prediction|         probability|\n",
      "+-----+--------------------+----------+--------------------+\n",
      "|  0.0|[0.92221513545515...|       0.0|[0.71549323973741...|\n",
      "|  0.0|[0.92221513545515...|       0.0|[0.71549323973741...|\n",
      "|  0.0|[0.92221513545515...|       0.0|[0.71549323973741...|\n",
      "|  0.0|[1.36118998174428...|       0.0|[0.79595303286145...|\n",
      "|  0.0|[1.36118998174428...|       0.0|[0.79595303286145...|\n",
      "|  0.0|[1.36118998174428...|       0.0|[0.79595303286145...|\n",
      "|  0.0|[1.36118998174428...|       0.0|[0.79595303286145...|\n",
      "|  0.0|[1.45832628379906...|       0.0|[0.81127655076969...|\n",
      "|  0.0|[1.48339910852791...|       0.0|[0.81508544708186...|\n",
      "|  0.0|[1.48339910852791...|       0.0|[0.81508544708186...|\n",
      "+-----+--------------------+----------+--------------------+\n",
      "only showing top 10 rows\n",
      "\n"
     ]
    }
   ],
   "source": [
    "predictions = lrModel.transform(test)\n",
    "predictions.select('label', 'rawPrediction', 'prediction', 'probability').show(10)"
   ]
  },
  {
   "cell_type": "code",
   "execution_count": 23,
   "metadata": {},
   "outputs": [
    {
     "name": "stdout",
     "output_type": "stream",
     "text": [
      "Test Area Under ROC: 0.5616130018907806\n"
     ]
    }
   ],
   "source": [
    "evaluator = BinaryClassificationEvaluator()\n",
    "print(\"Test Area Under ROC: \" + str(evaluator.evaluate(predictions, {evaluator.metricName: \"areaUnderROC\"})))"
   ]
  },
  {
   "cell_type": "markdown",
   "metadata": {},
   "source": [
    "## Arvore de decisao"
   ]
  },
  {
   "cell_type": "code",
   "execution_count": 24,
   "metadata": {},
   "outputs": [
    {
     "name": "stdout",
     "output_type": "stream",
     "text": [
      "+-----+---------------+----------+--------------------+\n",
      "|label|  rawPrediction|prediction|         probability|\n",
      "+-----+---------------+----------+--------------------+\n",
      "|  0.0|[3717.0,1147.0]|       0.0|[0.76418585526315...|\n",
      "|  0.0|[3717.0,1147.0]|       0.0|[0.76418585526315...|\n",
      "|  0.0|[3717.0,1147.0]|       0.0|[0.76418585526315...|\n",
      "|  0.0| [1973.0,456.0]|       0.0|[0.81226842321943...|\n",
      "|  0.0| [1973.0,456.0]|       0.0|[0.81226842321943...|\n",
      "|  0.0| [1973.0,456.0]|       0.0|[0.81226842321943...|\n",
      "|  0.0| [1973.0,456.0]|       0.0|[0.81226842321943...|\n",
      "|  0.0| [1973.0,456.0]|       0.0|[0.81226842321943...|\n",
      "|  0.0| [1973.0,456.0]|       0.0|[0.81226842321943...|\n",
      "|  0.0| [1973.0,456.0]|       0.0|[0.81226842321943...|\n",
      "+-----+---------------+----------+--------------------+\n",
      "only showing top 10 rows\n",
      "\n"
     ]
    }
   ],
   "source": [
    "\n",
    "dt = DecisionTreeClassifier(featuresCol = 'features', labelCol = 'label', maxDepth = 3)\n",
    "dtModel = dt.fit(train)\n",
    "predictions = dtModel.transform(test)\n",
    "predictions.select('label', 'rawPrediction', 'prediction', 'probability').show(10)"
   ]
  },
  {
   "cell_type": "code",
   "execution_count": 25,
   "metadata": {},
   "outputs": [
    {
     "name": "stdout",
     "output_type": "stream",
     "text": [
      "Test Area Under ROC: 0.5874124124124125\n"
     ]
    }
   ],
   "source": [
    "evaluator = BinaryClassificationEvaluator()\n",
    "print(\"Test Area Under ROC: \" + str(evaluator.evaluate(predictions, {evaluator.metricName: \"areaUnderROC\"})))"
   ]
  },
  {
   "cell_type": "markdown",
   "metadata": {},
   "source": [
    "## Random Forest"
   ]
  },
  {
   "cell_type": "code",
   "execution_count": 26,
   "metadata": {},
   "outputs": [],
   "source": [
    "\n",
    "rf = RandomForestClassifier(featuresCol = 'features', labelCol = 'label')\n",
    "rfModel = rf.fit(train)\n",
    "predictions = rfModel.transform(test)"
   ]
  },
  {
   "cell_type": "code",
   "execution_count": 27,
   "metadata": {},
   "outputs": [
    {
     "name": "stdout",
     "output_type": "stream",
     "text": [
      "+-----+--------------------+----------+--------------------+\n",
      "|label|       rawPrediction|prediction|         probability|\n",
      "+-----+--------------------+----------+--------------------+\n",
      "|  0.0|[15.6905042865477...|       0.0|[0.78452521432738...|\n",
      "|  0.0|[15.6905042865477...|       0.0|[0.78452521432738...|\n",
      "|  0.0|[15.6905042865477...|       0.0|[0.78452521432738...|\n",
      "|  0.0|[15.9773352419499...|       0.0|[0.79886676209749...|\n",
      "|  0.0|[15.9773352419499...|       0.0|[0.79886676209749...|\n",
      "|  0.0|[15.9773352419499...|       0.0|[0.79886676209749...|\n",
      "|  0.0|[15.9773352419499...|       0.0|[0.79886676209749...|\n",
      "|  0.0|[16.0803682338124...|       0.0|[0.80401841169062...|\n",
      "|  0.0|[16.0752516476657...|       0.0|[0.80376258238328...|\n",
      "|  0.0|[16.0752516476657...|       0.0|[0.80376258238328...|\n",
      "+-----+--------------------+----------+--------------------+\n",
      "only showing top 10 rows\n",
      "\n"
     ]
    }
   ],
   "source": [
    "predictions = rfModel.transform(test)\n",
    "predictions.select( 'label', 'rawPrediction', 'prediction', 'probability').show(10)"
   ]
  },
  {
   "cell_type": "code",
   "execution_count": 28,
   "metadata": {},
   "outputs": [
    {
     "name": "stdout",
     "output_type": "stream",
     "text": [
      "Test Area Under ROC: 0.5975864753642531\n"
     ]
    }
   ],
   "source": [
    "\n",
    "evaluator = BinaryClassificationEvaluator()\n",
    "print(\"Test Area Under ROC: \" + str(evaluator.evaluate(predictions, {evaluator.metricName: \"areaUnderROC\"})))"
   ]
  },
  {
   "cell_type": "markdown",
   "metadata": {},
   "source": [
    "## Gradiente Boost"
   ]
  },
  {
   "cell_type": "code",
   "execution_count": 29,
   "metadata": {},
   "outputs": [
    {
     "name": "stdout",
     "output_type": "stream",
     "text": [
      "+-----+--------------------+----------+--------------------+\n",
      "|label|       rawPrediction|prediction|         probability|\n",
      "+-----+--------------------+----------+--------------------+\n",
      "|  0.0|[0.58051478134439...|       0.0|[0.76151974141210...|\n",
      "|  0.0|[0.58051478134439...|       0.0|[0.76151974141210...|\n",
      "|  0.0|[0.58051478134439...|       0.0|[0.76151974141210...|\n",
      "|  0.0|[0.69286120143209...|       0.0|[0.79990847097634...|\n",
      "|  0.0|[0.69286120143209...|       0.0|[0.79990847097634...|\n",
      "|  0.0|[0.69286120143209...|       0.0|[0.79990847097634...|\n",
      "|  0.0|[0.69286120143209...|       0.0|[0.79990847097634...|\n",
      "|  0.0|[0.69286120143209...|       0.0|[0.79990847097634...|\n",
      "|  0.0|[0.69286120143209...|       0.0|[0.79990847097634...|\n",
      "|  0.0|[0.69286120143209...|       0.0|[0.79990847097634...|\n",
      "+-----+--------------------+----------+--------------------+\n",
      "only showing top 10 rows\n",
      "\n"
     ]
    }
   ],
   "source": [
    "from pyspark.ml.classification import GBTClassifier\n",
    "\n",
    "gbt = GBTClassifier(maxIter=10)\n",
    "gbtModel = gbt.fit(train)\n",
    "predictions = gbtModel.transform(test)\n",
    "predictions.select( 'label', 'rawPrediction', 'prediction', 'probability').show(10)"
   ]
  },
  {
   "cell_type": "code",
   "execution_count": 30,
   "metadata": {},
   "outputs": [
    {
     "name": "stdout",
     "output_type": "stream",
     "text": [
      "Test Area Under ROC: 0.6150539428317208\n"
     ]
    }
   ],
   "source": [
    "evaluator = BinaryClassificationEvaluator()\n",
    "print(\"Test Area Under ROC: \" + str(evaluator.evaluate(predictions, {evaluator.metricName: \"areaUnderROC\"})))"
   ]
  },
  {
   "cell_type": "code",
   "execution_count": null,
   "metadata": {},
   "outputs": [],
   "source": []
  }
 ],
 "metadata": {
  "kernelspec": {
   "display_name": "Python 3",
   "language": "python",
   "name": "python3"
  },
  "language_info": {
   "codemirror_mode": {
    "name": "ipython",
    "version": 3
   },
   "file_extension": ".py",
   "mimetype": "text/x-python",
   "name": "python",
   "nbconvert_exporter": "python",
   "pygments_lexer": "ipython3",
   "version": "3.6.5"
  }
 },
 "nbformat": 4,
 "nbformat_minor": 2
}
